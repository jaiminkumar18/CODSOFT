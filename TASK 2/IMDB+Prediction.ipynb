{
 "cells": [
  {
   "cell_type": "markdown",
   "id": "67e3a001-485b-4a84-bec9-8a49a8e92236",
   "metadata": {},
   "source": [
    "# IMDB INDIAN MOVIES RATING PREDICTION "
   ]
  },
  {
   "cell_type": "markdown",
   "id": "8510d900-70de-4680-948d-3ed4504dba61",
   "metadata": {},
   "source": [
    "## Define the Problem  \n",
    "### Build a model that predicts the rating of a movie based on features like genre, director, and actors."
   ]
  },
  {
   "cell_type": "markdown",
   "id": "66bb486e-3f0d-4780-b1d5-3e1daea8bac2",
   "metadata": {},
   "source": [
    "### AUTHOR: JAIMINKUMAR"
   ]
  },
  {
   "cell_type": "markdown",
   "id": "67b7a964-0e7c-4565-8b24-c72e3712ca9b",
   "metadata": {},
   "source": [
    "## IMPORTING LIBRARIES"
   ]
  },
  {
   "cell_type": "code",
   "execution_count": 1,
   "id": "ea1e0f49-b382-4c78-af84-42fdc7f724b1",
   "metadata": {},
   "outputs": [],
   "source": [
    "import pandas as pd\n",
    "import numpy as np\n",
    "import matplotlib.pyplot as plt\n",
    "import seaborn as sns\n",
    "%matplotlib inline\n",
    "import warnings\n",
    "warnings.simplefilter(\"ignore\")\n",
    "from sklearn import datasets, model_selection, preprocessing, metrics\n",
    "from sklearn.model_selection import train_test_split\n",
    "from sklearn.linear_model import LinearRegression\n",
    "from sklearn.metrics import accuracy_score, classification_report, confusion_matrix\n",
    "from scipy import stats"
   ]
  },
  {
   "cell_type": "markdown",
   "id": "8f1e753c-da7a-484d-94de-55561d5f3592",
   "metadata": {},
   "source": [
    "## DATA COLLECTION"
   ]
  },
  {
   "cell_type": "code",
   "execution_count": 2,
   "id": "175ec5b5-58da-4023-86e4-59ec78b9d2e4",
   "metadata": {},
   "outputs": [],
   "source": [
    "df = pd.read_csv(r'F:\\\\DATA SCIENCE 2023\\\\CodSoft\\\\Jaimin\\\\TASK 2 - IMDB Movie Prediction\\\\IMDb Movies India.csv', encoding='unicode_escape')"
   ]
  },
  {
   "cell_type": "markdown",
   "id": "2c0a7de1-ebf0-491a-b6b6-5895d227e939",
   "metadata": {},
   "source": [
    "## DATA CLEANING"
   ]
  },
  {
   "cell_type": "code",
   "execution_count": 3,
   "id": "237630b1-35d6-40ef-8e3e-d7a713b650f5",
   "metadata": {},
   "outputs": [
    {
     "data": {
      "text/html": [
       "<div>\n",
       "<style scoped>\n",
       "    .dataframe tbody tr th:only-of-type {\n",
       "        vertical-align: middle;\n",
       "    }\n",
       "\n",
       "    .dataframe tbody tr th {\n",
       "        vertical-align: top;\n",
       "    }\n",
       "\n",
       "    .dataframe thead th {\n",
       "        text-align: right;\n",
       "    }\n",
       "</style>\n",
       "<table border=\"1\" class=\"dataframe\">\n",
       "  <thead>\n",
       "    <tr style=\"text-align: right;\">\n",
       "      <th></th>\n",
       "      <th>Name</th>\n",
       "      <th>Year</th>\n",
       "      <th>Duration</th>\n",
       "      <th>Genre</th>\n",
       "      <th>Rating</th>\n",
       "      <th>Votes</th>\n",
       "      <th>Director</th>\n",
       "      <th>Actor 1</th>\n",
       "      <th>Actor 2</th>\n",
       "      <th>Actor 3</th>\n",
       "    </tr>\n",
       "  </thead>\n",
       "  <tbody>\n",
       "    <tr>\n",
       "      <th>0</th>\n",
       "      <td></td>\n",
       "      <td>NaN</td>\n",
       "      <td>NaN</td>\n",
       "      <td>Drama</td>\n",
       "      <td>NaN</td>\n",
       "      <td>NaN</td>\n",
       "      <td>J.S. Randhawa</td>\n",
       "      <td>Manmauji</td>\n",
       "      <td>Birbal</td>\n",
       "      <td>Rajendra Bhatia</td>\n",
       "    </tr>\n",
       "    <tr>\n",
       "      <th>1</th>\n",
       "      <td>#Gadhvi (He thought he was Gandhi)</td>\n",
       "      <td>(2019)</td>\n",
       "      <td>109 min</td>\n",
       "      <td>Drama</td>\n",
       "      <td>7.0</td>\n",
       "      <td>8</td>\n",
       "      <td>Gaurav Bakshi</td>\n",
       "      <td>Rasika Dugal</td>\n",
       "      <td>Vivek Ghamande</td>\n",
       "      <td>Arvind Jangid</td>\n",
       "    </tr>\n",
       "    <tr>\n",
       "      <th>2</th>\n",
       "      <td>#Homecoming</td>\n",
       "      <td>(2021)</td>\n",
       "      <td>90 min</td>\n",
       "      <td>Drama, Musical</td>\n",
       "      <td>NaN</td>\n",
       "      <td>NaN</td>\n",
       "      <td>Soumyajit Majumdar</td>\n",
       "      <td>Sayani Gupta</td>\n",
       "      <td>Plabita Borthakur</td>\n",
       "      <td>Roy Angana</td>\n",
       "    </tr>\n",
       "    <tr>\n",
       "      <th>3</th>\n",
       "      <td>#Yaaram</td>\n",
       "      <td>(2019)</td>\n",
       "      <td>110 min</td>\n",
       "      <td>Comedy, Romance</td>\n",
       "      <td>4.4</td>\n",
       "      <td>35</td>\n",
       "      <td>Ovais Khan</td>\n",
       "      <td>Prateik</td>\n",
       "      <td>Ishita Raj</td>\n",
       "      <td>Siddhant Kapoor</td>\n",
       "    </tr>\n",
       "    <tr>\n",
       "      <th>4</th>\n",
       "      <td>...And Once Again</td>\n",
       "      <td>(2010)</td>\n",
       "      <td>105 min</td>\n",
       "      <td>Drama</td>\n",
       "      <td>NaN</td>\n",
       "      <td>NaN</td>\n",
       "      <td>Amol Palekar</td>\n",
       "      <td>Rajat Kapoor</td>\n",
       "      <td>Rituparna Sengupta</td>\n",
       "      <td>Antara Mali</td>\n",
       "    </tr>\n",
       "  </tbody>\n",
       "</table>\n",
       "</div>"
      ],
      "text/plain": [
       "                                 Name    Year Duration            Genre  \\\n",
       "0                                         NaN      NaN            Drama   \n",
       "1  #Gadhvi (He thought he was Gandhi)  (2019)  109 min            Drama   \n",
       "2                         #Homecoming  (2021)   90 min   Drama, Musical   \n",
       "3                             #Yaaram  (2019)  110 min  Comedy, Romance   \n",
       "4                   ...And Once Again  (2010)  105 min            Drama   \n",
       "\n",
       "   Rating Votes            Director       Actor 1             Actor 2  \\\n",
       "0     NaN   NaN       J.S. Randhawa      Manmauji              Birbal   \n",
       "1     7.0     8       Gaurav Bakshi  Rasika Dugal      Vivek Ghamande   \n",
       "2     NaN   NaN  Soumyajit Majumdar  Sayani Gupta   Plabita Borthakur   \n",
       "3     4.4    35          Ovais Khan       Prateik          Ishita Raj   \n",
       "4     NaN   NaN        Amol Palekar  Rajat Kapoor  Rituparna Sengupta   \n",
       "\n",
       "           Actor 3  \n",
       "0  Rajendra Bhatia  \n",
       "1    Arvind Jangid  \n",
       "2       Roy Angana  \n",
       "3  Siddhant Kapoor  \n",
       "4      Antara Mali  "
      ]
     },
     "execution_count": 3,
     "metadata": {},
     "output_type": "execute_result"
    }
   ],
   "source": [
    "df.head()"
   ]
  },
  {
   "cell_type": "code",
   "execution_count": 4,
   "id": "48363600-fffb-45d2-a136-531319abe55c",
   "metadata": {},
   "outputs": [
    {
     "name": "stdout",
     "output_type": "stream",
     "text": [
      "<class 'pandas.core.frame.DataFrame'>\n",
      "RangeIndex: 15509 entries, 0 to 15508\n",
      "Data columns (total 10 columns):\n",
      " #   Column    Non-Null Count  Dtype  \n",
      "---  ------    --------------  -----  \n",
      " 0   Name      15509 non-null  object \n",
      " 1   Year      14981 non-null  object \n",
      " 2   Duration  7240 non-null   object \n",
      " 3   Genre     13632 non-null  object \n",
      " 4   Rating    7919 non-null   float64\n",
      " 5   Votes     7920 non-null   object \n",
      " 6   Director  14984 non-null  object \n",
      " 7   Actor 1   13892 non-null  object \n",
      " 8   Actor 2   13125 non-null  object \n",
      " 9   Actor 3   12365 non-null  object \n",
      "dtypes: float64(1), object(9)\n",
      "memory usage: 1.2+ MB\n"
     ]
    }
   ],
   "source": [
    "df.info()"
   ]
  },
  {
   "cell_type": "code",
   "execution_count": 5,
   "id": "1b7a39d8-b41d-47ef-ab08-dcb6bdc7d747",
   "metadata": {},
   "outputs": [],
   "source": [
    "# Remove empty rows\n",
    "df.dropna(how='all', inplace=True)\n",
    "\n",
    "# Display the head of the dataframe after removing empty rows\n",
    "# df.head()"
   ]
  },
  {
   "cell_type": "markdown",
   "id": "db18b452-0821-42ac-88da-a85bd27efe75",
   "metadata": {},
   "source": [
    "#### FOR YEAR COLUMN"
   ]
  },
  {
   "cell_type": "code",
   "execution_count": 6,
   "id": "29eaa8ed-9618-47cd-8c7a-6b7b95acc04a",
   "metadata": {},
   "outputs": [],
   "source": [
    "# Remove '-' and '()' from the Year column\n",
    "df['Year'] = df['Year'].str.replace('-', '').str.replace('(', '').str.replace(')', '')"
   ]
  },
  {
   "cell_type": "code",
   "execution_count": 7,
   "id": "ecaba028-1565-4a45-9d3a-b6a382c831a7",
   "metadata": {},
   "outputs": [],
   "source": [
    "df['Year'] = pd.to_numeric(df['Year'], errors='coerce')\n",
    "year_mean = df['Year'].mean()\n",
    "df['Year'].fillna(year_mean, inplace=True)\n",
    "df['Year'] = df['Year'].astype(int)"
   ]
  },
  {
   "cell_type": "code",
   "execution_count": 8,
   "id": "21a472bd-f51f-404e-9f08-37b7620c09eb",
   "metadata": {},
   "outputs": [
    {
     "name": "stdout",
     "output_type": "stream",
     "text": [
      "int32\n"
     ]
    }
   ],
   "source": [
    "print(df['Year'].dtype)"
   ]
  },
  {
   "cell_type": "markdown",
   "id": "260ac96a-3081-48f8-a15f-417c011616bb",
   "metadata": {},
   "source": [
    "#### FOR DURATION COLUMN"
   ]
  },
  {
   "cell_type": "code",
   "execution_count": 9,
   "id": "c666aade-aa7d-44b5-8eba-ee6f4c5aaadd",
   "metadata": {},
   "outputs": [
    {
     "data": {
      "text/plain": [
       "array([nan, '109 min', '90 min', '110 min', '105 min', '147 min',\n",
       "       '142 min', '59 min', '82 min', '116 min', '96 min', '120 min',\n",
       "       '161 min', '166 min', '102 min', '87 min', '132 min', '66 min',\n",
       "       '146 min', '112 min', '168 min', '158 min', '126 min', '94 min',\n",
       "       '138 min', '124 min', '144 min', '157 min', '136 min', '107 min',\n",
       "       '113 min', '80 min', '122 min', '149 min', '148 min', '130 min',\n",
       "       '121 min', '188 min', '115 min', '103 min', '114 min', '170 min',\n",
       "       '100 min', '99 min', '140 min', '128 min', '93 min', '125 min',\n",
       "       '145 min', '75 min', '111 min', '134 min', '85 min', '104 min',\n",
       "       '92 min', '137 min', '127 min', '150 min', '119 min', '135 min',\n",
       "       '86 min', '76 min', '70 min', '72 min', '151 min', '95 min',\n",
       "       '52 min', '89 min', '143 min', '177 min', '117 min', '123 min',\n",
       "       '154 min', '88 min', '175 min', '153 min', '78 min', '139 min',\n",
       "       '133 min', '101 min', '180 min', '60 min', '46 min', '164 min',\n",
       "       '162 min', '171 min', '160 min', '152 min', '62 min', '163 min',\n",
       "       '165 min', '141 min', '210 min', '129 min', '156 min', '240 min',\n",
       "       '172 min', '155 min', '118 min', '167 min', '106 min', '193 min',\n",
       "       '57 min', '108 min', '45 min', '195 min', '174 min', '81 min',\n",
       "       '178 min', '58 min', '184 min', '97 min', '98 min', '131 min',\n",
       "       '176 min', '169 min', '77 min', '91 min', '84 min', '173 min',\n",
       "       '74 min', '67 min', '181 min', '300 min', '79 min', '65 min',\n",
       "       '48 min', '183 min', '159 min', '83 min', '68 min', '49 min',\n",
       "       '201 min', '64 min', '186 min', '50 min', '69 min', '207 min',\n",
       "       '55 min', '61 min', '185 min', '187 min', '216 min', '63 min',\n",
       "       '54 min', '198 min', '51 min', '71 min', '73 min', '218 min',\n",
       "       '191 min', '321 min', '199 min', '53 min', '56 min', '179 min',\n",
       "       '47 min', '206 min', '190 min', '211 min', '247 min', '213 min',\n",
       "       '223 min', '2 min', '189 min', '224 min', '202 min', '255 min',\n",
       "       '197 min', '182 min', '214 min', '208 min', '21 min', '200 min',\n",
       "       '192 min', '37 min', '261 min', '238 min', '204 min', '235 min',\n",
       "       '298 min', '217 min', '250 min'], dtype=object)"
      ]
     },
     "execution_count": 9,
     "metadata": {},
     "output_type": "execute_result"
    }
   ],
   "source": [
    "# Check the unique values in the 'Duration' column\n",
    "unique_durations = df['Duration'].unique()\n",
    "unique_durations"
   ]
  },
  {
   "cell_type": "code",
   "execution_count": 10,
   "id": "d2553e90-77df-43f1-8ff7-c6e3f3d16d9c",
   "metadata": {},
   "outputs": [
    {
     "name": "stdout",
     "output_type": "stream",
     "text": [
      "Count of NaN values in Duration column: 8269\n"
     ]
    },
    {
     "data": {
      "text/html": [
       "<div>\n",
       "<style scoped>\n",
       "    .dataframe tbody tr th:only-of-type {\n",
       "        vertical-align: middle;\n",
       "    }\n",
       "\n",
       "    .dataframe tbody tr th {\n",
       "        vertical-align: top;\n",
       "    }\n",
       "\n",
       "    .dataframe thead th {\n",
       "        text-align: right;\n",
       "    }\n",
       "</style>\n",
       "<table border=\"1\" class=\"dataframe\">\n",
       "  <thead>\n",
       "    <tr style=\"text-align: right;\">\n",
       "      <th></th>\n",
       "      <th>Name</th>\n",
       "      <th>Year</th>\n",
       "      <th>Duration</th>\n",
       "      <th>Genre</th>\n",
       "      <th>Rating</th>\n",
       "      <th>Votes</th>\n",
       "      <th>Director</th>\n",
       "      <th>Actor 1</th>\n",
       "      <th>Actor 2</th>\n",
       "      <th>Actor 3</th>\n",
       "    </tr>\n",
       "  </thead>\n",
       "  <tbody>\n",
       "    <tr>\n",
       "      <th>0</th>\n",
       "      <td></td>\n",
       "      <td>1987</td>\n",
       "      <td>NaN</td>\n",
       "      <td>Drama</td>\n",
       "      <td>NaN</td>\n",
       "      <td>NaN</td>\n",
       "      <td>J.S. Randhawa</td>\n",
       "      <td>Manmauji</td>\n",
       "      <td>Birbal</td>\n",
       "      <td>Rajendra Bhatia</td>\n",
       "    </tr>\n",
       "    <tr>\n",
       "      <th>1</th>\n",
       "      <td>#Gadhvi (He thought he was Gandhi)</td>\n",
       "      <td>2019</td>\n",
       "      <td>109.0</td>\n",
       "      <td>Drama</td>\n",
       "      <td>7.0</td>\n",
       "      <td>8</td>\n",
       "      <td>Gaurav Bakshi</td>\n",
       "      <td>Rasika Dugal</td>\n",
       "      <td>Vivek Ghamande</td>\n",
       "      <td>Arvind Jangid</td>\n",
       "    </tr>\n",
       "    <tr>\n",
       "      <th>2</th>\n",
       "      <td>#Homecoming</td>\n",
       "      <td>2021</td>\n",
       "      <td>90.0</td>\n",
       "      <td>Drama, Musical</td>\n",
       "      <td>NaN</td>\n",
       "      <td>NaN</td>\n",
       "      <td>Soumyajit Majumdar</td>\n",
       "      <td>Sayani Gupta</td>\n",
       "      <td>Plabita Borthakur</td>\n",
       "      <td>Roy Angana</td>\n",
       "    </tr>\n",
       "    <tr>\n",
       "      <th>3</th>\n",
       "      <td>#Yaaram</td>\n",
       "      <td>2019</td>\n",
       "      <td>110.0</td>\n",
       "      <td>Comedy, Romance</td>\n",
       "      <td>4.4</td>\n",
       "      <td>35</td>\n",
       "      <td>Ovais Khan</td>\n",
       "      <td>Prateik</td>\n",
       "      <td>Ishita Raj</td>\n",
       "      <td>Siddhant Kapoor</td>\n",
       "    </tr>\n",
       "    <tr>\n",
       "      <th>4</th>\n",
       "      <td>...And Once Again</td>\n",
       "      <td>2010</td>\n",
       "      <td>105.0</td>\n",
       "      <td>Drama</td>\n",
       "      <td>NaN</td>\n",
       "      <td>NaN</td>\n",
       "      <td>Amol Palekar</td>\n",
       "      <td>Rajat Kapoor</td>\n",
       "      <td>Rituparna Sengupta</td>\n",
       "      <td>Antara Mali</td>\n",
       "    </tr>\n",
       "  </tbody>\n",
       "</table>\n",
       "</div>"
      ],
      "text/plain": [
       "                                 Name  Year  Duration            Genre  \\\n",
       "0                                      1987       NaN            Drama   \n",
       "1  #Gadhvi (He thought he was Gandhi)  2019     109.0            Drama   \n",
       "2                         #Homecoming  2021      90.0   Drama, Musical   \n",
       "3                             #Yaaram  2019     110.0  Comedy, Romance   \n",
       "4                   ...And Once Again  2010     105.0            Drama   \n",
       "\n",
       "   Rating Votes            Director       Actor 1             Actor 2  \\\n",
       "0     NaN   NaN       J.S. Randhawa      Manmauji              Birbal   \n",
       "1     7.0     8       Gaurav Bakshi  Rasika Dugal      Vivek Ghamande   \n",
       "2     NaN   NaN  Soumyajit Majumdar  Sayani Gupta   Plabita Borthakur   \n",
       "3     4.4    35          Ovais Khan       Prateik          Ishita Raj   \n",
       "4     NaN   NaN        Amol Palekar  Rajat Kapoor  Rituparna Sengupta   \n",
       "\n",
       "           Actor 3  \n",
       "0  Rajendra Bhatia  \n",
       "1    Arvind Jangid  \n",
       "2       Roy Angana  \n",
       "3  Siddhant Kapoor  \n",
       "4      Antara Mali  "
      ]
     },
     "execution_count": 10,
     "metadata": {},
     "output_type": "execute_result"
    }
   ],
   "source": [
    "# Remove the 'min' suffix and convert the column to numeric, setting errors='coerce' to handle any non-numeric values\n",
    "# This will convert non-numeric values to NaN\n",
    "# Then, we can decide how to handle NaN values after\n",
    "\n",
    "df['Duration'] = df['Duration'].str.replace(' min', '')\n",
    "df['Duration'] = pd.to_numeric(df['Duration'], errors='coerce')\n",
    "\n",
    "# Check for NaN values and their count\n",
    "nan_count = df['Duration'].isna().sum()\n",
    "\n",
    "# Display the count of NaN values and the head of the dataframe to confirm the changes\n",
    "print('Count of NaN values in Duration column:', nan_count)\n",
    "df.head()"
   ]
  },
  {
   "cell_type": "code",
   "execution_count": 11,
   "id": "7f4f86f5-d364-496f-b1f7-c3f815903818",
   "metadata": {},
   "outputs": [],
   "source": [
    "# Fill the NaN values in the 'Duration' column with the mean duration\n",
    "mean_duration = df['Duration'].mean()\n",
    "df['Duration'] = df['Duration'].fillna(mean_duration)\n",
    "df['Duration'] = df['Duration'].astype(int)"
   ]
  },
  {
   "cell_type": "markdown",
   "id": "d4d8b252-b80a-4013-b7bf-4cc237274e2c",
   "metadata": {},
   "source": [
    "#### FOR GENRE COLUMN"
   ]
  },
  {
   "cell_type": "code",
   "execution_count": 12,
   "id": "15e0d40e-9117-4295-a84f-7fb6a0bfb752",
   "metadata": {},
   "outputs": [],
   "source": [
    "# Remove empty values in the 'Genre' column\n",
    "# Drop rows where 'Genre' is NaN\n",
    "filtered_data = df.dropna(subset=['Genre'],inplace=True)\n",
    "filtered_data"
   ]
  },
  {
   "cell_type": "markdown",
   "id": "6eaeeb73-a6ae-48b3-afa5-1d6b2531cc17",
   "metadata": {},
   "source": [
    "#### FOR RATING COLUMN"
   ]
  },
  {
   "cell_type": "code",
   "execution_count": 13,
   "id": "d7a5c21b-3020-405a-ae71-14e6b9d412e3",
   "metadata": {},
   "outputs": [],
   "source": [
    "# Fill the NaN values in the 'Rating' column with the mean rating\n",
    "mean_rating = df['Rating'].mean()\n",
    "df['Rating'] = df['Rating'].fillna(mean_rating)"
   ]
  },
  {
   "cell_type": "markdown",
   "id": "aa512feb-336c-4d44-b4dd-53aa66cf02a2",
   "metadata": {},
   "source": [
    "#### FOR VOTES"
   ]
  },
  {
   "cell_type": "code",
   "execution_count": 14,
   "id": "2ec5ddc0-4689-4ddb-8d72-c10e20207080",
   "metadata": {},
   "outputs": [],
   "source": [
    "df['Votes'] = df['Votes'].str.replace(',', '')"
   ]
  },
  {
   "cell_type": "code",
   "execution_count": 15,
   "id": "bc69f389-1d59-4669-afd4-b017dc7907ea",
   "metadata": {},
   "outputs": [],
   "source": [
    "# Remove commas and handle 'M' values\n",
    "df['Votes'] = df['Votes'].replace('[\\$,]', '', regex=True).replace('[mM]', 'e6', regex=True).astype(float)"
   ]
  },
  {
   "cell_type": "code",
   "execution_count": 16,
   "id": "94962d5d-7bbe-4739-8e68-5de6e9de81dd",
   "metadata": {},
   "outputs": [],
   "source": [
    "# Fill the NaN valuvotesthe 'Rating' column with the mean rating\n",
    "mean_votes = df['Votes'].mean()\n",
    "df['Votes'] = df['Votes'].fillna(mean_rating)"
   ]
  },
  {
   "cell_type": "markdown",
   "id": "c36934fa-65f0-4321-9b29-1bdb37090b67",
   "metadata": {},
   "source": [
    "#### FOR DIRECTOR COLUMN"
   ]
  },
  {
   "cell_type": "code",
   "execution_count": 17,
   "id": "398a7499-87d4-4168-b52f-e23fa5f8a1a5",
   "metadata": {},
   "outputs": [],
   "source": [
    "df.dropna(subset=['Director'],inplace=True)"
   ]
  },
  {
   "cell_type": "markdown",
   "id": "bf9901ad-2cf0-4170-9d9d-5289fd291f62",
   "metadata": {},
   "source": [
    "#### FOR ACTOR'S COLUMN"
   ]
  },
  {
   "cell_type": "code",
   "execution_count": 18,
   "id": "79df8765-0f2e-43d5-b82f-b449a26d7cb7",
   "metadata": {},
   "outputs": [],
   "source": [
    "df.dropna(subset=['Actor 1'],inplace=True)\n",
    "df.dropna(subset=['Actor 2'],inplace=True)\n",
    "df.dropna(subset=['Actor 3'],inplace=True)"
   ]
  },
  {
   "cell_type": "code",
   "execution_count": 19,
   "id": "7d9aa017-98b0-4519-8bbf-d3e53871dfcb",
   "metadata": {},
   "outputs": [],
   "source": [
    "df=df.drop_duplicates(subset=['Name'])"
   ]
  },
  {
   "cell_type": "code",
   "execution_count": 20,
   "id": "f2b086e5-a809-4fde-a7ae-c5febb71d6f4",
   "metadata": {
    "scrolled": true
   },
   "outputs": [
    {
     "data": {
      "text/plain": [
       "(10445, 10)"
      ]
     },
     "execution_count": 20,
     "metadata": {},
     "output_type": "execute_result"
    }
   ],
   "source": [
    "df.shape"
   ]
  },
  {
   "cell_type": "code",
   "execution_count": 21,
   "id": "d3c21f32-8431-48a0-bcd3-a8256c1af18f",
   "metadata": {},
   "outputs": [],
   "source": [
    "df=df.drop_duplicates(subset=['Actor 1'])"
   ]
  },
  {
   "cell_type": "code",
   "execution_count": 22,
   "id": "8d62e7fd-b1f2-4133-ba84-440ac2470fa6",
   "metadata": {},
   "outputs": [
    {
     "data": {
      "text/plain": [
       "(3764, 10)"
      ]
     },
     "execution_count": 22,
     "metadata": {},
     "output_type": "execute_result"
    }
   ],
   "source": [
    "df.shape"
   ]
  },
  {
   "cell_type": "code",
   "execution_count": 23,
   "id": "00c87569-c8aa-464c-a3bb-9bc1a37a300f",
   "metadata": {},
   "outputs": [
    {
     "name": "stdout",
     "output_type": "stream",
     "text": [
      "<class 'pandas.core.frame.DataFrame'>\n",
      "Index: 3764 entries, 0 to 15489\n",
      "Data columns (total 10 columns):\n",
      " #   Column    Non-Null Count  Dtype  \n",
      "---  ------    --------------  -----  \n",
      " 0   Name      3764 non-null   object \n",
      " 1   Year      3764 non-null   int32  \n",
      " 2   Duration  3764 non-null   int32  \n",
      " 3   Genre     3764 non-null   object \n",
      " 4   Rating    3764 non-null   float64\n",
      " 5   Votes     3764 non-null   float64\n",
      " 6   Director  3764 non-null   object \n",
      " 7   Actor 1   3764 non-null   object \n",
      " 8   Actor 2   3764 non-null   object \n",
      " 9   Actor 3   3764 non-null   object \n",
      "dtypes: float64(2), int32(2), object(6)\n",
      "memory usage: 294.1+ KB\n"
     ]
    }
   ],
   "source": [
    "df.info()"
   ]
  },
  {
   "cell_type": "markdown",
   "id": "390239ad-d304-4518-87c0-2ad6fd8cb1d4",
   "metadata": {},
   "source": [
    "### Data Cleaning is Done..."
   ]
  },
  {
   "cell_type": "code",
   "execution_count": 24,
   "id": "65d94df2-1fb0-461e-8ade-15d502c5e6b2",
   "metadata": {},
   "outputs": [],
   "source": [
    "df.to_csv('imdb_lastwala.csv', index=False)"
   ]
  },
  {
   "cell_type": "code",
   "execution_count": 25,
   "id": "14859505-49e7-4379-b83e-4db4f2303381",
   "metadata": {},
   "outputs": [
    {
     "data": {
      "text/html": [
       "<div>\n",
       "<style scoped>\n",
       "    .dataframe tbody tr th:only-of-type {\n",
       "        vertical-align: middle;\n",
       "    }\n",
       "\n",
       "    .dataframe tbody tr th {\n",
       "        vertical-align: top;\n",
       "    }\n",
       "\n",
       "    .dataframe thead th {\n",
       "        text-align: right;\n",
       "    }\n",
       "</style>\n",
       "<table border=\"1\" class=\"dataframe\">\n",
       "  <thead>\n",
       "    <tr style=\"text-align: right;\">\n",
       "      <th></th>\n",
       "      <th>index</th>\n",
       "      <th>Name</th>\n",
       "      <th>Year</th>\n",
       "      <th>Duration</th>\n",
       "      <th>Genre</th>\n",
       "      <th>Rating</th>\n",
       "      <th>Votes</th>\n",
       "      <th>Director</th>\n",
       "      <th>Actor 1</th>\n",
       "      <th>Actor 2</th>\n",
       "      <th>Actor 3</th>\n",
       "    </tr>\n",
       "  </thead>\n",
       "  <tbody>\n",
       "    <tr>\n",
       "      <th>0</th>\n",
       "      <td>0</td>\n",
       "      <td></td>\n",
       "      <td>1987</td>\n",
       "      <td>128</td>\n",
       "      <td>Drama</td>\n",
       "      <td>5.839568</td>\n",
       "      <td>5.839568</td>\n",
       "      <td>J.S. Randhawa</td>\n",
       "      <td>Manmauji</td>\n",
       "      <td>Birbal</td>\n",
       "      <td>Rajendra Bhatia</td>\n",
       "    </tr>\n",
       "    <tr>\n",
       "      <th>1</th>\n",
       "      <td>1</td>\n",
       "      <td>#Gadhvi (He thought he was Gandhi)</td>\n",
       "      <td>2019</td>\n",
       "      <td>109</td>\n",
       "      <td>Drama</td>\n",
       "      <td>7.000000</td>\n",
       "      <td>8.000000</td>\n",
       "      <td>Gaurav Bakshi</td>\n",
       "      <td>Rasika Dugal</td>\n",
       "      <td>Vivek Ghamande</td>\n",
       "      <td>Arvind Jangid</td>\n",
       "    </tr>\n",
       "    <tr>\n",
       "      <th>2</th>\n",
       "      <td>2</td>\n",
       "      <td>#Homecoming</td>\n",
       "      <td>2021</td>\n",
       "      <td>90</td>\n",
       "      <td>Drama, Musical</td>\n",
       "      <td>5.839568</td>\n",
       "      <td>5.839568</td>\n",
       "      <td>Soumyajit Majumdar</td>\n",
       "      <td>Sayani Gupta</td>\n",
       "      <td>Plabita Borthakur</td>\n",
       "      <td>Roy Angana</td>\n",
       "    </tr>\n",
       "    <tr>\n",
       "      <th>3</th>\n",
       "      <td>3</td>\n",
       "      <td>#Yaaram</td>\n",
       "      <td>2019</td>\n",
       "      <td>110</td>\n",
       "      <td>Comedy, Romance</td>\n",
       "      <td>4.400000</td>\n",
       "      <td>35.000000</td>\n",
       "      <td>Ovais Khan</td>\n",
       "      <td>Prateik</td>\n",
       "      <td>Ishita Raj</td>\n",
       "      <td>Siddhant Kapoor</td>\n",
       "    </tr>\n",
       "    <tr>\n",
       "      <th>4</th>\n",
       "      <td>4</td>\n",
       "      <td>...And Once Again</td>\n",
       "      <td>2010</td>\n",
       "      <td>105</td>\n",
       "      <td>Drama</td>\n",
       "      <td>5.839568</td>\n",
       "      <td>5.839568</td>\n",
       "      <td>Amol Palekar</td>\n",
       "      <td>Rajat Kapoor</td>\n",
       "      <td>Rituparna Sengupta</td>\n",
       "      <td>Antara Mali</td>\n",
       "    </tr>\n",
       "    <tr>\n",
       "      <th>...</th>\n",
       "      <td>...</td>\n",
       "      <td>...</td>\n",
       "      <td>...</td>\n",
       "      <td>...</td>\n",
       "      <td>...</td>\n",
       "      <td>...</td>\n",
       "      <td>...</td>\n",
       "      <td>...</td>\n",
       "      <td>...</td>\n",
       "      <td>...</td>\n",
       "      <td>...</td>\n",
       "    </tr>\n",
       "    <tr>\n",
       "      <th>3759</th>\n",
       "      <td>15479</td>\n",
       "      <td>Zindagi Tumse</td>\n",
       "      <td>2019</td>\n",
       "      <td>120</td>\n",
       "      <td>Family</td>\n",
       "      <td>6.000000</td>\n",
       "      <td>13.000000</td>\n",
       "      <td>Tariq Bhat</td>\n",
       "      <td>Sadhana Singh</td>\n",
       "      <td>Guddi Maruti</td>\n",
       "      <td>Rajesh Puri</td>\n",
       "    </tr>\n",
       "    <tr>\n",
       "      <th>3760</th>\n",
       "      <td>15482</td>\n",
       "      <td>Zindagi Zindabad</td>\n",
       "      <td>2000</td>\n",
       "      <td>140</td>\n",
       "      <td>Drama</td>\n",
       "      <td>5.700000</td>\n",
       "      <td>7.000000</td>\n",
       "      <td>Sumitra Bhave</td>\n",
       "      <td>Sunil Sukthankar</td>\n",
       "      <td>Mita Vashisht</td>\n",
       "      <td>Milind Gunaji</td>\n",
       "    </tr>\n",
       "    <tr>\n",
       "      <th>3761</th>\n",
       "      <td>15484</td>\n",
       "      <td>Zinga</td>\n",
       "      <td>2021</td>\n",
       "      <td>128</td>\n",
       "      <td>Adventure, Fantasy, Sci-Fi</td>\n",
       "      <td>5.839568</td>\n",
       "      <td>5.839568</td>\n",
       "      <td>Jaishankar Chigurula</td>\n",
       "      <td>Sri Ram</td>\n",
       "      <td>Devan Sanjeev</td>\n",
       "      <td>Kasu Naveen Kumar</td>\n",
       "    </tr>\n",
       "    <tr>\n",
       "      <th>3762</th>\n",
       "      <td>15487</td>\n",
       "      <td>Zokkomon</td>\n",
       "      <td>2011</td>\n",
       "      <td>109</td>\n",
       "      <td>Action, Adventure, Family</td>\n",
       "      <td>4.000000</td>\n",
       "      <td>351.000000</td>\n",
       "      <td>Satyajit Bhatkal</td>\n",
       "      <td>Darsheel Safary</td>\n",
       "      <td>Anupam Kher</td>\n",
       "      <td>Manjari Fadnnis</td>\n",
       "    </tr>\n",
       "    <tr>\n",
       "      <th>3763</th>\n",
       "      <td>15489</td>\n",
       "      <td>Zor Lagaa Ke... Haiya!</td>\n",
       "      <td>2009</td>\n",
       "      <td>128</td>\n",
       "      <td>Comedy, Drama, Family</td>\n",
       "      <td>6.100000</td>\n",
       "      <td>59.000000</td>\n",
       "      <td>Girish Girija Joshi</td>\n",
       "      <td>Meghan Jadhav</td>\n",
       "      <td>Mithun Chakraborty</td>\n",
       "      <td>Riya Sen</td>\n",
       "    </tr>\n",
       "  </tbody>\n",
       "</table>\n",
       "<p>3764 rows × 11 columns</p>\n",
       "</div>"
      ],
      "text/plain": [
       "      index                                Name  Year  Duration  \\\n",
       "0         0                                      1987       128   \n",
       "1         1  #Gadhvi (He thought he was Gandhi)  2019       109   \n",
       "2         2                         #Homecoming  2021        90   \n",
       "3         3                             #Yaaram  2019       110   \n",
       "4         4                   ...And Once Again  2010       105   \n",
       "...     ...                                 ...   ...       ...   \n",
       "3759  15479                       Zindagi Tumse  2019       120   \n",
       "3760  15482                    Zindagi Zindabad  2000       140   \n",
       "3761  15484                               Zinga  2021       128   \n",
       "3762  15487                            Zokkomon  2011       109   \n",
       "3763  15489              Zor Lagaa Ke... Haiya!  2009       128   \n",
       "\n",
       "                           Genre    Rating       Votes              Director  \\\n",
       "0                          Drama  5.839568    5.839568         J.S. Randhawa   \n",
       "1                          Drama  7.000000    8.000000         Gaurav Bakshi   \n",
       "2                 Drama, Musical  5.839568    5.839568    Soumyajit Majumdar   \n",
       "3                Comedy, Romance  4.400000   35.000000            Ovais Khan   \n",
       "4                          Drama  5.839568    5.839568          Amol Palekar   \n",
       "...                          ...       ...         ...                   ...   \n",
       "3759                      Family  6.000000   13.000000            Tariq Bhat   \n",
       "3760                       Drama  5.700000    7.000000         Sumitra Bhave   \n",
       "3761  Adventure, Fantasy, Sci-Fi  5.839568    5.839568  Jaishankar Chigurula   \n",
       "3762   Action, Adventure, Family  4.000000  351.000000      Satyajit Bhatkal   \n",
       "3763       Comedy, Drama, Family  6.100000   59.000000   Girish Girija Joshi   \n",
       "\n",
       "               Actor 1             Actor 2            Actor 3  \n",
       "0             Manmauji              Birbal    Rajendra Bhatia  \n",
       "1         Rasika Dugal      Vivek Ghamande      Arvind Jangid  \n",
       "2         Sayani Gupta   Plabita Borthakur         Roy Angana  \n",
       "3              Prateik          Ishita Raj    Siddhant Kapoor  \n",
       "4         Rajat Kapoor  Rituparna Sengupta        Antara Mali  \n",
       "...                ...                 ...                ...  \n",
       "3759     Sadhana Singh        Guddi Maruti        Rajesh Puri  \n",
       "3760  Sunil Sukthankar       Mita Vashisht      Milind Gunaji  \n",
       "3761           Sri Ram       Devan Sanjeev  Kasu Naveen Kumar  \n",
       "3762   Darsheel Safary         Anupam Kher    Manjari Fadnnis  \n",
       "3763     Meghan Jadhav  Mithun Chakraborty           Riya Sen  \n",
       "\n",
       "[3764 rows x 11 columns]"
      ]
     },
     "execution_count": 25,
     "metadata": {},
     "output_type": "execute_result"
    }
   ],
   "source": [
    "df.reset_index()"
   ]
  },
  {
   "cell_type": "markdown",
   "id": "5bdc11bb-b563-4d4d-9461-3384b201d3f3",
   "metadata": {},
   "source": [
    "# EXPLORATORY DATA ANALYSIS"
   ]
  },
  {
   "cell_type": "code",
   "execution_count": 26,
   "id": "7156c65a-f659-47c8-9d1e-c21a2cc14f94",
   "metadata": {},
   "outputs": [
    {
     "data": {
      "text/html": [
       "<div>\n",
       "<style scoped>\n",
       "    .dataframe tbody tr th:only-of-type {\n",
       "        vertical-align: middle;\n",
       "    }\n",
       "\n",
       "    .dataframe tbody tr th {\n",
       "        vertical-align: top;\n",
       "    }\n",
       "\n",
       "    .dataframe thead th {\n",
       "        text-align: right;\n",
       "    }\n",
       "</style>\n",
       "<table border=\"1\" class=\"dataframe\">\n",
       "  <thead>\n",
       "    <tr style=\"text-align: right;\">\n",
       "      <th></th>\n",
       "      <th>Name</th>\n",
       "      <th>Year</th>\n",
       "      <th>Duration</th>\n",
       "      <th>Genre</th>\n",
       "      <th>Rating</th>\n",
       "      <th>Votes</th>\n",
       "      <th>Director</th>\n",
       "      <th>Actor 1</th>\n",
       "      <th>Actor 2</th>\n",
       "      <th>Actor 3</th>\n",
       "    </tr>\n",
       "  </thead>\n",
       "  <tbody>\n",
       "    <tr>\n",
       "      <th>0</th>\n",
       "      <td></td>\n",
       "      <td>1987</td>\n",
       "      <td>128</td>\n",
       "      <td>Drama</td>\n",
       "      <td>5.839568</td>\n",
       "      <td>5.839568</td>\n",
       "      <td>J.S. Randhawa</td>\n",
       "      <td>Manmauji</td>\n",
       "      <td>Birbal</td>\n",
       "      <td>Rajendra Bhatia</td>\n",
       "    </tr>\n",
       "    <tr>\n",
       "      <th>1</th>\n",
       "      <td>#Gadhvi (He thought he was Gandhi)</td>\n",
       "      <td>2019</td>\n",
       "      <td>109</td>\n",
       "      <td>Drama</td>\n",
       "      <td>7.000000</td>\n",
       "      <td>8.000000</td>\n",
       "      <td>Gaurav Bakshi</td>\n",
       "      <td>Rasika Dugal</td>\n",
       "      <td>Vivek Ghamande</td>\n",
       "      <td>Arvind Jangid</td>\n",
       "    </tr>\n",
       "    <tr>\n",
       "      <th>2</th>\n",
       "      <td>#Homecoming</td>\n",
       "      <td>2021</td>\n",
       "      <td>90</td>\n",
       "      <td>Drama, Musical</td>\n",
       "      <td>5.839568</td>\n",
       "      <td>5.839568</td>\n",
       "      <td>Soumyajit Majumdar</td>\n",
       "      <td>Sayani Gupta</td>\n",
       "      <td>Plabita Borthakur</td>\n",
       "      <td>Roy Angana</td>\n",
       "    </tr>\n",
       "    <tr>\n",
       "      <th>3</th>\n",
       "      <td>#Yaaram</td>\n",
       "      <td>2019</td>\n",
       "      <td>110</td>\n",
       "      <td>Comedy, Romance</td>\n",
       "      <td>4.400000</td>\n",
       "      <td>35.000000</td>\n",
       "      <td>Ovais Khan</td>\n",
       "      <td>Prateik</td>\n",
       "      <td>Ishita Raj</td>\n",
       "      <td>Siddhant Kapoor</td>\n",
       "    </tr>\n",
       "    <tr>\n",
       "      <th>4</th>\n",
       "      <td>...And Once Again</td>\n",
       "      <td>2010</td>\n",
       "      <td>105</td>\n",
       "      <td>Drama</td>\n",
       "      <td>5.839568</td>\n",
       "      <td>5.839568</td>\n",
       "      <td>Amol Palekar</td>\n",
       "      <td>Rajat Kapoor</td>\n",
       "      <td>Rituparna Sengupta</td>\n",
       "      <td>Antara Mali</td>\n",
       "    </tr>\n",
       "  </tbody>\n",
       "</table>\n",
       "</div>"
      ],
      "text/plain": [
       "                                 Name  Year  Duration            Genre  \\\n",
       "0                                      1987       128            Drama   \n",
       "1  #Gadhvi (He thought he was Gandhi)  2019       109            Drama   \n",
       "2                         #Homecoming  2021        90   Drama, Musical   \n",
       "3                             #Yaaram  2019       110  Comedy, Romance   \n",
       "4                   ...And Once Again  2010       105            Drama   \n",
       "\n",
       "     Rating      Votes            Director       Actor 1             Actor 2  \\\n",
       "0  5.839568   5.839568       J.S. Randhawa      Manmauji              Birbal   \n",
       "1  7.000000   8.000000       Gaurav Bakshi  Rasika Dugal      Vivek Ghamande   \n",
       "2  5.839568   5.839568  Soumyajit Majumdar  Sayani Gupta   Plabita Borthakur   \n",
       "3  4.400000  35.000000          Ovais Khan       Prateik          Ishita Raj   \n",
       "4  5.839568   5.839568        Amol Palekar  Rajat Kapoor  Rituparna Sengupta   \n",
       "\n",
       "           Actor 3  \n",
       "0  Rajendra Bhatia  \n",
       "1    Arvind Jangid  \n",
       "2       Roy Angana  \n",
       "3  Siddhant Kapoor  \n",
       "4      Antara Mali  "
      ]
     },
     "execution_count": 26,
     "metadata": {},
     "output_type": "execute_result"
    }
   ],
   "source": [
    "df.head()"
   ]
  },
  {
   "cell_type": "code",
   "execution_count": 27,
   "id": "f48569cf-e5f1-4619-9a06-582e408ef1d8",
   "metadata": {},
   "outputs": [
    {
     "data": {
      "text/html": [
       "<div>\n",
       "<style scoped>\n",
       "    .dataframe tbody tr th:only-of-type {\n",
       "        vertical-align: middle;\n",
       "    }\n",
       "\n",
       "    .dataframe tbody tr th {\n",
       "        vertical-align: top;\n",
       "    }\n",
       "\n",
       "    .dataframe thead th {\n",
       "        text-align: right;\n",
       "    }\n",
       "</style>\n",
       "<table border=\"1\" class=\"dataframe\">\n",
       "  <thead>\n",
       "    <tr style=\"text-align: right;\">\n",
       "      <th></th>\n",
       "      <th>Year</th>\n",
       "      <th>Duration</th>\n",
       "      <th>Rating</th>\n",
       "      <th>Votes</th>\n",
       "    </tr>\n",
       "  </thead>\n",
       "  <tbody>\n",
       "    <tr>\n",
       "      <th>count</th>\n",
       "      <td>3764.000000</td>\n",
       "      <td>3764.000000</td>\n",
       "      <td>3764.000000</td>\n",
       "      <td>3.764000e+03</td>\n",
       "    </tr>\n",
       "    <tr>\n",
       "      <th>mean</th>\n",
       "      <td>1999.044899</td>\n",
       "      <td>122.322529</td>\n",
       "      <td>5.846436</td>\n",
       "      <td>2.340610e+03</td>\n",
       "    </tr>\n",
       "    <tr>\n",
       "      <th>std</th>\n",
       "      <td>21.359130</td>\n",
       "      <td>21.200876</td>\n",
       "      <td>1.111705</td>\n",
       "      <td>8.511150e+04</td>\n",
       "    </tr>\n",
       "    <tr>\n",
       "      <th>min</th>\n",
       "      <td>1917.000000</td>\n",
       "      <td>21.000000</td>\n",
       "      <td>1.400000</td>\n",
       "      <td>5.000000e+00</td>\n",
       "    </tr>\n",
       "    <tr>\n",
       "      <th>25%</th>\n",
       "      <td>1987.000000</td>\n",
       "      <td>115.000000</td>\n",
       "      <td>5.800000</td>\n",
       "      <td>5.839568e+00</td>\n",
       "    </tr>\n",
       "    <tr>\n",
       "      <th>50%</th>\n",
       "      <td>2006.000000</td>\n",
       "      <td>128.000000</td>\n",
       "      <td>5.839568</td>\n",
       "      <td>7.000000e+00</td>\n",
       "    </tr>\n",
       "    <tr>\n",
       "      <th>75%</th>\n",
       "      <td>2016.000000</td>\n",
       "      <td>128.000000</td>\n",
       "      <td>6.200000</td>\n",
       "      <td>5.300000e+01</td>\n",
       "    </tr>\n",
       "    <tr>\n",
       "      <th>max</th>\n",
       "      <td>2022.000000</td>\n",
       "      <td>300.000000</td>\n",
       "      <td>10.000000</td>\n",
       "      <td>5.160000e+06</td>\n",
       "    </tr>\n",
       "  </tbody>\n",
       "</table>\n",
       "</div>"
      ],
      "text/plain": [
       "              Year     Duration       Rating         Votes\n",
       "count  3764.000000  3764.000000  3764.000000  3.764000e+03\n",
       "mean   1999.044899   122.322529     5.846436  2.340610e+03\n",
       "std      21.359130    21.200876     1.111705  8.511150e+04\n",
       "min    1917.000000    21.000000     1.400000  5.000000e+00\n",
       "25%    1987.000000   115.000000     5.800000  5.839568e+00\n",
       "50%    2006.000000   128.000000     5.839568  7.000000e+00\n",
       "75%    2016.000000   128.000000     6.200000  5.300000e+01\n",
       "max    2022.000000   300.000000    10.000000  5.160000e+06"
      ]
     },
     "execution_count": 27,
     "metadata": {},
     "output_type": "execute_result"
    }
   ],
   "source": [
    "df.describe()"
   ]
  },
  {
   "cell_type": "code",
   "execution_count": 28,
   "id": "dbac8e59-de4a-44af-8d1b-6bfdd376a97b",
   "metadata": {},
   "outputs": [
    {
     "data": {
      "text/plain": [
       "(3764, 10)"
      ]
     },
     "execution_count": 28,
     "metadata": {},
     "output_type": "execute_result"
    }
   ],
   "source": [
    "df.shape"
   ]
  },
  {
   "cell_type": "markdown",
   "id": "65977865-741c-4533-95e1-a724f447ec36",
   "metadata": {},
   "source": [
    "# DATA VISUALIZATION"
   ]
  },
  {
   "cell_type": "code",
   "execution_count": 29,
   "id": "51058b68-de49-4578-bd30-7f87e8b6f1c0",
   "metadata": {},
   "outputs": [
    {
     "data": {
      "image/png": "[encoded data removed]",
      "text/plain": [
       "<Figure size 1000x600 with 1 Axes>"
      ]
     },
     "metadata": {},
     "output_type": "display_data"
    }
   ],
   "source": [
    "# Histogram for 'Rating'\n",
    "plt.figure(figsize=(10, 6))\n",
    "sns.histplot(df['Rating'], bins=20, kde=True)\n",
    "plt.title('Distribution of Ratings')\n",
    "plt.xlabel('Rating')\n",
    "plt.ylabel('Frequency')\n",
    "plt.show()"
   ]
  },
  {
   "cell_type": "markdown",
   "id": "f6b79f49-20ac-4a25-ac75-bab8f60d47f4",
   "metadata": {},
   "source": [
    "### The distribution of ratings is skewed towards the higher end, indicating that there are more movies with higher ratings than lower ratings in the dataset.."
   ]
  },
  {
   "cell_type": "markdown",
   "id": "b47b3394-12f5-4453-a5f3-4263a871b689",
   "metadata": {},
   "source": [
    "### There is a noticeable peak around the rating of 6, suggesting a large number of movies received a rating in this region."
   ]
  },
  {
   "cell_type": "code",
   "execution_count": 30,
   "id": "b1c649b8-c7b7-4214-bf05-8f782e88dbb7",
   "metadata": {},
   "outputs": [
    {
     "data": {
      "image/png": "[encoded data removed]",
      "text/plain": [
       "<Figure size 1000x600 with 1 Axes>"
      ]
     },
     "metadata": {},
     "output_type": "display_data"
    }
   ],
   "source": [
    "# Assuming df is your DataFrame and 'Actor 1' is a column in the DataFrame\n",
    "top_actors_1 = df['Actor 2'].value_counts().nlargest(10)\n",
    "\n",
    "# Visualize the top 10 actors from the 'Actor 1' column with exact counts on the bars\n",
    "plt.figure(figsize=(10, 6))\n",
    "ax = sns.barplot(x=top_actors_1.values, y=top_actors_1.index, palette='viridis')\n",
    "\n",
    "# Display exact counts on top of each bar\n",
    "for i, v in enumerate(top_actors_1.values):\n",
    "    ax.text(v + 1, i, str(v), color='black', va='center', fontweight='bold')\n",
    "\n",
    "plt.title('Top 10 Actors (Actor 2)')\n",
    "plt.xlabel('Count')\n",
    "plt.ylabel('Actor')\n",
    "plt.show()"
   ]
  },
  {
   "cell_type": "markdown",
   "id": "1784c474-43e1-4c8a-b720-3b5b85a67159",
   "metadata": {},
   "source": [
    "### The bar chart above displays the top 10 actors from the 'Actor 1' column, with the exact counts of their appearances displayed on each bar."
   ]
  },
  {
   "cell_type": "code",
   "execution_count": 31,
   "id": "8e80e280-096e-4f2d-a940-3f9ff247bc72",
   "metadata": {},
   "outputs": [
    {
     "data": {
      "image/png": "[encoded data removed]",
      "text/plain": [
       "<Figure size 1000x600 with 1 Axes>"
      ]
     },
     "metadata": {},
     "output_type": "display_data"
    }
   ],
   "source": [
    "# Assuming df is your DataFrame and 'Actor 1' is a column in the DataFrame\n",
    "top_actors_1 = df['Actor 3'].value_counts().nlargest(10)\n",
    "\n",
    "# Define a color palette with different colors\n",
    "colors = sns.color_palette('husl', len(top_actors_1))\n",
    "\n",
    "# Visualize the top 10 actors from the 'Actor 1' column with different colors for each bar\n",
    "plt.figure(figsize=(10, 6))\n",
    "ax = sns.barplot(x=top_actors_1.values, y=top_actors_1.index, palette=colors)\n",
    "\n",
    "# Display exact counts on top of each bar\n",
    "for i, v in enumerate(top_actors_1.values):\n",
    "    ax.text(v + 1, i, str(v), color='black', va='center', fontweight='bold')\n",
    "\n",
    "plt.title('Top 10 Actors (Actor 3)')\n",
    "plt.xlabel('Count')\n",
    "plt.ylabel('Actor')\n",
    "plt.show()"
   ]
  },
  {
   "cell_type": "markdown",
   "id": "1fd4dbf3-e0d5-4804-9ada-f57a971b6752",
   "metadata": {},
   "source": [
    "# DATA MODELING"
   ]
  },
  {
   "cell_type": "code",
   "execution_count": 32,
   "id": "0fa2a4a6-87c7-4f64-846e-1e6658f5c846",
   "metadata": {},
   "outputs": [
    {
     "name": "stdout",
     "output_type": "stream",
     "text": [
      "<class 'pandas.core.frame.DataFrame'>\n",
      "Index: 3764 entries, 0 to 15489\n",
      "Data columns (total 10 columns):\n",
      " #   Column    Non-Null Count  Dtype  \n",
      "---  ------    --------------  -----  \n",
      " 0   Name      3764 non-null   object \n",
      " 1   Year      3764 non-null   int32  \n",
      " 2   Duration  3764 non-null   int32  \n",
      " 3   Genre     3764 non-null   object \n",
      " 4   Rating    3764 non-null   float64\n",
      " 5   Votes     3764 non-null   float64\n",
      " 6   Director  3764 non-null   object \n",
      " 7   Actor 1   3764 non-null   object \n",
      " 8   Actor 2   3764 non-null   object \n",
      " 9   Actor 3   3764 non-null   object \n",
      "dtypes: float64(2), int32(2), object(6)\n",
      "memory usage: 294.1+ KB\n"
     ]
    }
   ],
   "source": [
    "df.info()"
   ]
  },
  {
   "cell_type": "markdown",
   "id": "8abc63c1-18f8-480c-a5c6-6be3176f1897",
   "metadata": {},
   "source": [
    "#### CALCULATE THE MEAN RATING FOR EACH GENRE"
   ]
  },
  {
   "cell_type": "code",
   "execution_count": 33,
   "id": "0067478b-1009-46ca-a232-9fa261ebd14b",
   "metadata": {},
   "outputs": [],
   "source": [
    "# Calculate the mean rating for each genre\n",
    "genre_mean_rating = df.groupby('Genre')['Rating'].mean().reset_index()"
   ]
  },
  {
   "cell_type": "code",
   "execution_count": 34,
   "id": "e75df49f-c23e-4666-abfb-2cc9737667f3",
   "metadata": {},
   "outputs": [],
   "source": [
    "# First, we need to create a mapping from the 'Genre' to its mean rating\n",
    "mean_rating_map = genre_mean_rating.set_index('Genre')['Rating'].to_dict()\n",
    "\n",
    "# Now we apply the mapping to the 'Genre' column to create a new 'Genre_Mean_Rating' column\n",
    "# We use the original 'Genre' column to map because 'Genre_Code' is just numerical representation\n",
    "# and does not contain the actual genre names\n",
    "\n",
    "# Apply the mapping\n",
    "df['Genre_Mean_Rating'] = df['Genre'].map(mean_rating_map)"
   ]
  },
  {
   "cell_type": "code",
   "execution_count": 35,
   "id": "5d101ab1-aa97-4da5-b8a0-8224e40283a7",
   "metadata": {},
   "outputs": [],
   "source": [
    "# Create mapping for Actor 1, 2, and 3 to their mean ratings\n",
    "actor1_mean_rating_map = df.groupby('Actor 1')['Rating'].mean().to_dict()\n",
    "actor2_mean_rating_map = df.groupby('Actor 2')['Rating'].mean().to_dict()\n",
    "actor3_mean_rating_map = df.groupby('Actor 3')['Rating'].mean().to_dict()\n",
    "director_mean_rating_map=df.groupby('Director')['Rating'].mean().to_dict()\n",
    "\n",
    "# Apply the mapping to create new columns for mean ratings of Actor 1, 2, and 3\n",
    "# We use the original 'Actor 1', 'Actor 2', and 'Actor 3' columns to map because 'Actor_Code' is just numerical representation\n",
    "# and does not contain the actual actor names\n",
    "\n",
    "df['Actor1_Mean_Rating'] = df['Actor 1'].map(actor1_mean_rating_map)\n",
    "df['Actor2_Mean_Rating'] = df['Actor 2'].map(actor2_mean_rating_map)\n",
    "df['Actor3_Mean_Rating'] = df['Actor 3'].map(actor3_mean_rating_map)\n",
    "df['Director_Mean_Rating'] = df['Director'].map(director_mean_rating_map)\n",
    "\n",
    "# Display the head of the updated dataframe to confirm the changes\n",
    "# print(df.head())"
   ]
  },
  {
   "cell_type": "code",
   "execution_count": 36,
   "id": "33dcca08-194e-4861-9491-af0d4e064769",
   "metadata": {},
   "outputs": [
    {
     "name": "stdout",
     "output_type": "stream",
     "text": [
      "<class 'pandas.core.frame.DataFrame'>\n",
      "Index: 3764 entries, 0 to 15489\n",
      "Data columns (total 15 columns):\n",
      " #   Column                Non-Null Count  Dtype  \n",
      "---  ------                --------------  -----  \n",
      " 0   Name                  3764 non-null   object \n",
      " 1   Year                  3764 non-null   int32  \n",
      " 2   Duration              3764 non-null   int32  \n",
      " 3   Genre                 3764 non-null   object \n",
      " 4   Rating                3764 non-null   float64\n",
      " 5   Votes                 3764 non-null   float64\n",
      " 6   Director              3764 non-null   object \n",
      " 7   Actor 1               3764 non-null   object \n",
      " 8   Actor 2               3764 non-null   object \n",
      " 9   Actor 3               3764 non-null   object \n",
      " 10  Genre_Mean_Rating     3764 non-null   float64\n",
      " 11  Actor1_Mean_Rating    3764 non-null   float64\n",
      " 12  Actor2_Mean_Rating    3764 non-null   float64\n",
      " 13  Actor3_Mean_Rating    3764 non-null   float64\n",
      " 14  Director_Mean_Rating  3764 non-null   float64\n",
      "dtypes: float64(7), int32(2), object(6)\n",
      "memory usage: 441.1+ KB\n"
     ]
    }
   ],
   "source": [
    "df.info()"
   ]
  },
  {
   "cell_type": "code",
   "execution_count": 37,
   "id": "c48699b8-a254-4bf2-a38a-7c0e378dbd60",
   "metadata": {},
   "outputs": [
    {
     "data": {
      "text/plain": [
       "Index(['Name', 'Year', 'Duration', 'Genre', 'Rating', 'Votes', 'Director',\n",
       "       'Actor 1', 'Actor 2', 'Actor 3', 'Genre_Mean_Rating',\n",
       "       'Actor1_Mean_Rating', 'Actor2_Mean_Rating', 'Actor3_Mean_Rating',\n",
       "       'Director_Mean_Rating'],\n",
       "      dtype='object')"
      ]
     },
     "execution_count": 37,
     "metadata": {},
     "output_type": "execute_result"
    }
   ],
   "source": [
    "df.columns"
   ]
  },
  {
   "cell_type": "code",
   "execution_count": 38,
   "id": "32ae5fc8-af5a-426d-a29a-56b4d964ae5a",
   "metadata": {},
   "outputs": [],
   "source": [
    "import pandas as pd\n",
    "\n",
    "# Assuming df is your DataFrame\n",
    "# Replace 'Genre_Mean_Rating', 'Actor1_Mean_Rating', etc. with your actual column names\n",
    "columns_to_convert = ['Rating','Votes','Genre_Mean_Rating', 'Actor1_Mean_Rating', 'Actor2_Mean_Rating', 'Actor3_Mean_Rating', 'Director_Mean_Rating']\n",
    "\n",
    "# Convert selected columns from float to integer\n",
    "df[columns_to_convert] = df[columns_to_convert].astype(int)\n",
    "\n",
    "# Display the DataFrame after conversion\n",
    "# print(df)"
   ]
  },
  {
   "cell_type": "code",
   "execution_count": 39,
   "id": "7ae6a1fa-4375-4ce1-95f3-4e5cb98a234c",
   "metadata": {},
   "outputs": [
    {
     "name": "stdout",
     "output_type": "stream",
     "text": [
      "<class 'pandas.core.frame.DataFrame'>\n",
      "Index: 3764 entries, 0 to 15489\n",
      "Data columns (total 15 columns):\n",
      " #   Column                Non-Null Count  Dtype \n",
      "---  ------                --------------  ----- \n",
      " 0   Name                  3764 non-null   object\n",
      " 1   Year                  3764 non-null   int32 \n",
      " 2   Duration              3764 non-null   int32 \n",
      " 3   Genre                 3764 non-null   object\n",
      " 4   Rating                3764 non-null   int32 \n",
      " 5   Votes                 3764 non-null   int32 \n",
      " 6   Director              3764 non-null   object\n",
      " 7   Actor 1               3764 non-null   object\n",
      " 8   Actor 2               3764 non-null   object\n",
      " 9   Actor 3               3764 non-null   object\n",
      " 10  Genre_Mean_Rating     3764 non-null   int32 \n",
      " 11  Actor1_Mean_Rating    3764 non-null   int32 \n",
      " 12  Actor2_Mean_Rating    3764 non-null   int32 \n",
      " 13  Actor3_Mean_Rating    3764 non-null   int32 \n",
      " 14  Director_Mean_Rating  3764 non-null   int32 \n",
      "dtypes: int32(9), object(6)\n",
      "memory usage: 338.2+ KB\n"
     ]
    }
   ],
   "source": [
    "df.info()"
   ]
  },
  {
   "cell_type": "code",
   "execution_count": 40,
   "id": "4e535658-55a5-4bab-9ebc-6f26c3345294",
   "metadata": {},
   "outputs": [
    {
     "data": {
      "text/plain": [
       "Index(['Name', 'Year', 'Duration', 'Genre', 'Rating', 'Votes', 'Director',\n",
       "       'Actor 1', 'Actor 2', 'Actor 3', 'Genre_Mean_Rating',\n",
       "       'Actor1_Mean_Rating', 'Actor2_Mean_Rating', 'Actor3_Mean_Rating',\n",
       "       'Director_Mean_Rating'],\n",
       "      dtype='object')"
      ]
     },
     "execution_count": 40,
     "metadata": {},
     "output_type": "execute_result"
    }
   ],
   "source": [
    "df.columns"
   ]
  },
  {
   "cell_type": "markdown",
   "id": "1342592e-9ec8-4886-a7f9-d002df670db3",
   "metadata": {},
   "source": [
    "### USING LINEAR REGRESSION"
   ]
  },
  {
   "cell_type": "code",
   "execution_count": 41,
   "id": "75e6f2b4-c3ef-43ac-849d-cb309f3917f3",
   "metadata": {},
   "outputs": [],
   "source": [
    "# Features2 (X) and target variable (y)=0.14 & 0.90\n",
    "X = df[['Actor2_Mean_Rating','Director_Mean_Rating','Actor3_Mean_Rating']]\n",
    "y = df['Rating']"
   ]
  },
  {
   "cell_type": "code",
   "execution_count": 42,
   "id": "b70b512d-90e3-4aed-bbc4-6426d2642c5d",
   "metadata": {},
   "outputs": [],
   "source": [
    "# Split the data into training and testing sets\n",
    "X_train, X_test, y_train, y_test = train_test_split(X, y, test_size=0.2, random_state=42)"
   ]
  },
  {
   "cell_type": "code",
   "execution_count": 43,
   "id": "d95cdd38-80e0-4672-9965-7930e0ff9ba5",
   "metadata": {},
   "outputs": [],
   "source": [
    "# Initialize the Linear Regression model\n",
    "lr = LinearRegression()"
   ]
  },
  {
   "cell_type": "code",
   "execution_count": 44,
   "id": "10b885ac-086b-4ab6-89bc-a93f140833a4",
   "metadata": {},
   "outputs": [],
   "source": [
    "# Initialize the Linear Regression model\n",
    "lr = LinearRegression()"
   ]
  },
  {
   "cell_type": "code",
   "execution_count": 45,
   "id": "96c0be69-6b9e-4785-bf81-743562932e3b",
   "metadata": {},
   "outputs": [
    {
     "data": {
      "text/html": [
       "<style>#sk-container-id-1 {color: black;}#sk-container-id-1 pre{padding: 0;}#sk-container-id-1 div.sk-toggleable {background-color: white;}#sk-container-id-1 label.sk-toggleable__label {cursor: pointer;display: block;width: 100%;margin-bottom: 0;padding: 0.3em;box-sizing: border-box;text-align: center;}#sk-container-id-1 label.sk-toggleable__label-arrow:before {content: \"▸\";float: left;margin-right: 0.25em;color: #696969;}#sk-container-id-1 label.sk-toggleable__label-arrow:hover:before {color: black;}#sk-container-id-1 div.sk-estimator:hover label.sk-toggleable__label-arrow:before {color: black;}#sk-container-id-1 div.sk-toggleable__content {max-height: 0;max-width: 0;overflow: hidden;text-align: left;background-color: #f0f8ff;}#sk-container-id-1 div.sk-toggleable__content pre {margin: 0.2em;color: black;border-radius: 0.25em;background-color: #f0f8ff;}#sk-container-id-1 input.sk-toggleable__control:checked~div.sk-toggleable__content {max-height: 200px;max-width: 100%;overflow: auto;}#sk-container-id-1 input.sk-toggleable__control:checked~label.sk-toggleable__label-arrow:before {content: \"▾\";}#sk-container-id-1 div.sk-estimator input.sk-toggleable__control:checked~label.sk-toggleable__label {background-color: #d4ebff;}#sk-container-id-1 div.sk-label input.sk-toggleable__control:checked~label.sk-toggleable__label {background-color: #d4ebff;}#sk-container-id-1 input.sk-hidden--visually {border: 0;clip: rect(1px 1px 1px 1px);clip: rect(1px, 1px, 1px, 1px);height: 1px;margin: -1px;overflow: hidden;padding: 0;position: absolute;width: 1px;}#sk-container-id-1 div.sk-estimator {font-family: monospace;background-color: #f0f8ff;border: 1px dotted black;border-radius: 0.25em;box-sizing: border-box;margin-bottom: 0.5em;}#sk-container-id-1 div.sk-estimator:hover {background-color: #d4ebff;}#sk-container-id-1 div.sk-parallel-item::after {content: \"\";width: 100%;border-bottom: 1px solid gray;flex-grow: 1;}#sk-container-id-1 div.sk-label:hover label.sk-toggleable__label {background-color: #d4ebff;}#sk-container-id-1 div.sk-serial::before {content: \"\";position: absolute;border-left: 1px solid gray;box-sizing: border-box;top: 0;bottom: 0;left: 50%;z-index: 0;}#sk-container-id-1 div.sk-serial {display: flex;flex-direction: column;align-items: center;background-color: white;padding-right: 0.2em;padding-left: 0.2em;position: relative;}#sk-container-id-1 div.sk-item {position: relative;z-index: 1;}#sk-container-id-1 div.sk-parallel {display: flex;align-items: stretch;justify-content: center;background-color: white;position: relative;}#sk-container-id-1 div.sk-item::before, #sk-container-id-1 div.sk-parallel-item::before {content: \"\";position: absolute;border-left: 1px solid gray;box-sizing: border-box;top: 0;bottom: 0;left: 50%;z-index: -1;}#sk-container-id-1 div.sk-parallel-item {display: flex;flex-direction: column;z-index: 1;position: relative;background-color: white;}#sk-container-id-1 div.sk-parallel-item:first-child::after {align-self: flex-end;width: 50%;}#sk-container-id-1 div.sk-parallel-item:last-child::after {align-self: flex-start;width: 50%;}#sk-container-id-1 div.sk-parallel-item:only-child::after {width: 0;}#sk-container-id-1 div.sk-dashed-wrapped {border: 1px dashed gray;margin: 0 0.4em 0.5em 0.4em;box-sizing: border-box;padding-bottom: 0.4em;background-color: white;}#sk-container-id-1 div.sk-label label {font-family: monospace;font-weight: bold;display: inline-block;line-height: 1.2em;}#sk-container-id-1 div.sk-label-container {text-align: center;}#sk-container-id-1 div.sk-container {/* jupyter's `normalize.less` sets `[hidden] { display: none; }` but bootstrap.min.css set `[hidden] { display: none !important; }` so we also need the `!important` here to be able to override the default hidden behavior on the sphinx rendered scikit-learn.org. See: https://github.com/scikit-learn/scikit-learn/issues/21755 */display: inline-block !important;position: relative;}#sk-container-id-1 div.sk-text-repr-fallback {display: none;}</style><div id=\"sk-container-id-1\" class=\"sk-top-container\"><div class=\"sk-text-repr-fallback\"><pre>LinearRegression()</pre><b>In a Jupyter environment, please rerun this cell to show the HTML representation or trust the notebook. <br />On GitHub, the HTML representation is unable to render, please try loading this page with nbviewer.org.</b></div><div class=\"sk-container\" hidden><div class=\"sk-item\"><div class=\"sk-estimator sk-toggleable\"><input class=\"sk-toggleable__control sk-hidden--visually\" id=\"sk-estimator-id-1\" type=\"checkbox\" checked><label for=\"sk-estimator-id-1\" class=\"sk-toggleable__label sk-toggleable__label-arrow\">LinearRegression</label><div class=\"sk-toggleable__content\"><pre>LinearRegression()</pre></div></div></div></div></div>"
      ],
      "text/plain": [
       "LinearRegression()"
      ]
     },
     "execution_count": 45,
     "metadata": {},
     "output_type": "execute_result"
    }
   ],
   "source": [
    "# Train the model on the training set\n",
    "lr.fit(X_train, y_train)"
   ]
  },
  {
   "cell_type": "code",
   "execution_count": 46,
   "id": "35ddeec7-9bb7-450e-bb59-c8bdedf0e8a1",
   "metadata": {},
   "outputs": [],
   "source": [
    "# Make predictions on the test set\n",
    "y_pred = lr.predict(X_test)"
   ]
  },
  {
   "cell_type": "code",
   "execution_count": 47,
   "id": "771f6b17-a7af-460f-a83b-317ede4fb2db",
   "metadata": {},
   "outputs": [],
   "source": [
    "# Make predictions on the test set\n",
    "y_pred = lr.predict(X_test)"
   ]
  },
  {
   "cell_type": "code",
   "execution_count": 48,
   "id": "945a0fb4-c492-48ff-9fc1-ef62db1572ab",
   "metadata": {},
   "outputs": [],
   "source": [
    "# Evaluate the model\n",
    "from sklearn.metrics import mean_squared_error, r2_score\n",
    "mse = mean_squared_error(y_test, y_pred)\n",
    "r2 = r2_score(y_test, y_pred)"
   ]
  },
  {
   "cell_type": "code",
   "execution_count": 49,
   "id": "653e9dff-6439-47bc-9c7c-8debce56ef03",
   "metadata": {},
   "outputs": [
    {
     "name": "stdout",
     "output_type": "stream",
     "text": [
      "Mean Squared Error: 0.14\n",
      "R-squared: 0.90\n"
     ]
    }
   ],
   "source": [
    "# Display the model's performance metrics\n",
    "print(f'Mean Squared Error: {mse:.2f}')\n",
    "print(f'R-squared: {r2:.2f}')"
   ]
  },
  {
   "cell_type": "markdown",
   "id": "c3985786-015a-498b-8eff-c7394333c5f7",
   "metadata": {},
   "source": [
    "### CALCULATING MEAN ABSOLUTE ERROR"
   ]
  },
  {
   "cell_type": "code",
   "execution_count": 50,
   "id": "5fb79cc5-5db8-4b30-ba8c-d2688ae0fc5c",
   "metadata": {},
   "outputs": [
    {
     "name": "stdout",
     "output_type": "stream",
     "text": [
      "Mean Absolute Error (MAE): 0.2464415720413528\n"
     ]
    }
   ],
   "source": [
    "from sklearn.metrics import mean_absolute_error\n",
    "# Calculate Mean Absolute Error\n",
    "mae = mean_absolute_error(y_test, y_pred)\n",
    "\n",
    "# Print the result\n",
    "print(f'Mean Absolute Error (MAE): {mae}')"
   ]
  },
  {
   "cell_type": "markdown",
   "id": "147ff57a-45f6-477e-8d09-30602926f51b",
   "metadata": {},
   "source": [
    "### CHECKING RESIDUALS (ACTUAL VALUES-PREDICTED VALUES)"
   ]
  },
  {
   "cell_type": "code",
   "execution_count": 51,
   "id": "bb4fe2a8-9cc4-424d-b7aa-cbc4d53e7752",
   "metadata": {},
   "outputs": [
    {
     "name": "stdout",
     "output_type": "stream",
     "text": [
      "4665    -0.299896\n",
      "11582    0.052326\n",
      "342     -0.085461\n",
      "12301   -0.085461\n",
      "6591     0.520292\n",
      "           ...   \n",
      "2662     0.052326\n",
      "11220    0.266761\n",
      "9383     0.369924\n",
      "1406    -0.085461\n",
      "11594   -0.299896\n",
      "Name: Rating, Length: 753, dtype: float64\n"
     ]
    }
   ],
   "source": [
    "residuals=y_test-y_pred\n",
    "print(residuals)"
   ]
  },
  {
   "cell_type": "code",
   "execution_count": 52,
   "id": "b4e15b5e-dbdf-4453-9dea-b4617ae774ad",
   "metadata": {},
   "outputs": [
    {
     "data": {
      "text/plain": [
       "<seaborn.axisgrid.FacetGrid at 0x1d383893ec0>"
      ]
     },
     "execution_count": 52,
     "metadata": {},
     "output_type": "execute_result"
    },
    {
     "data": {
      "image/png": "[encoded data removed]",
      "text/plain": [
       "<Figure size 500x500 with 1 Axes>"
      ]
     },
     "metadata": {},
     "output_type": "display_data"
    }
   ],
   "source": [
    "#Plot this residuals\n",
    "sns.displot(residuals,kind='kde')"
   ]
  },
  {
   "cell_type": "code",
   "execution_count": 53,
   "id": "03e1535f-2884-4079-8537-d97797a4f63c",
   "metadata": {},
   "outputs": [],
   "source": [
    "## Standardization\n",
    "from sklearn.preprocessing import StandardScaler"
   ]
  },
  {
   "cell_type": "code",
   "execution_count": 54,
   "id": "c4e7c051-9952-4da7-b298-31f687cdf4bf",
   "metadata": {},
   "outputs": [],
   "source": [
    "scaler=StandardScaler()\n",
    "X_train = scaler.fit_transform(X_train)"
   ]
  },
  {
   "cell_type": "code",
   "execution_count": 55,
   "id": "d35dd3aa-d98f-442b-b286-1aafd6a1880c",
   "metadata": {},
   "outputs": [
    {
     "data": {
      "text/plain": [
       "<matplotlib.collections.PathCollection at 0x1d383891d90>"
      ]
     },
     "execution_count": 55,
     "metadata": {},
     "output_type": "execute_result"
    },
    {
     "data": {
      "image/png": "[encoded data removed]",
      "text/plain": [
       "<Figure size 640x480 with 1 Axes>"
      ]
     },
     "metadata": {},
     "output_type": "display_data"
    }
   ],
   "source": [
    "plt.scatter(y_test,y_pred)"
   ]
  },
  {
   "cell_type": "code",
   "execution_count": 56,
   "id": "266bf22c-b623-4826-9d96-67ea06736e76",
   "metadata": {},
   "outputs": [],
   "source": [
    "## OLS Linear Regression\n",
    "import statsmodels.api as sm\n",
    "model=sm.OLS(y_train,X_train).fit()"
   ]
  },
  {
   "cell_type": "code",
   "execution_count": 57,
   "id": "866854c1-5244-43a1-8627-aae6a1002d72",
   "metadata": {},
   "outputs": [
    {
     "data": {
      "text/html": [
       "<table class=\"simpletable\">\n",
       "<caption>OLS Regression Results</caption>\n",
       "<tr>\n",
       "  <th>Dep. Variable:</th>         <td>Rating</td>      <th>  R-squared (uncentered):</th>      <td>   0.041</td> \n",
       "</tr>\n",
       "<tr>\n",
       "  <th>Model:</th>                   <td>OLS</td>       <th>  Adj. R-squared (uncentered):</th> <td>   0.040</td> \n",
       "</tr>\n",
       "<tr>\n",
       "  <th>Method:</th>             <td>Least Squares</td>  <th>  F-statistic:       </th>          <td>   42.79</td> \n",
       "</tr>\n",
       "<tr>\n",
       "  <th>Date:</th>             <td>Wed, 20 Dec 2023</td> <th>  Prob (F-statistic):</th>          <td>4.50e-27</td> \n",
       "</tr>\n",
       "<tr>\n",
       "  <th>Time:</th>                 <td>14:50:36</td>     <th>  Log-Likelihood:    </th>          <td> -9240.5</td> \n",
       "</tr>\n",
       "<tr>\n",
       "  <th>No. Observations:</th>      <td>  3011</td>      <th>  AIC:               </th>          <td>1.849e+04</td>\n",
       "</tr>\n",
       "<tr>\n",
       "  <th>Df Residuals:</th>          <td>  3008</td>      <th>  BIC:               </th>          <td>1.851e+04</td>\n",
       "</tr>\n",
       "<tr>\n",
       "  <th>Df Model:</th>              <td>     3</td>      <th>                     </th>              <td> </td>    \n",
       "</tr>\n",
       "<tr>\n",
       "  <th>Covariance Type:</th>      <td>nonrobust</td>    <th>                     </th>              <td> </td>    \n",
       "</tr>\n",
       "</table>\n",
       "<table class=\"simpletable\">\n",
       "<tr>\n",
       "   <td></td>     <th>coef</th>     <th>std err</th>      <th>t</th>      <th>P>|t|</th>  <th>[0.025</th>    <th>0.975]</th>  \n",
       "</tr>\n",
       "<tr>\n",
       "  <th>x1</th> <td>    0.3578</td> <td>    0.176</td> <td>    2.031</td> <td> 0.042</td> <td>    0.012</td> <td>    0.703</td>\n",
       "</tr>\n",
       "<tr>\n",
       "  <th>x2</th> <td>    0.4834</td> <td>    0.174</td> <td>    2.776</td> <td> 0.006</td> <td>    0.142</td> <td>    0.825</td>\n",
       "</tr>\n",
       "<tr>\n",
       "  <th>x3</th> <td>    0.3175</td> <td>    0.167</td> <td>    1.907</td> <td> 0.057</td> <td>   -0.009</td> <td>    0.644</td>\n",
       "</tr>\n",
       "</table>\n",
       "<table class=\"simpletable\">\n",
       "<tr>\n",
       "  <th>Omnibus:</th>       <td>374.819</td> <th>  Durbin-Watson:     </th> <td>   0.011</td>\n",
       "</tr>\n",
       "<tr>\n",
       "  <th>Prob(Omnibus):</th> <td> 0.000</td>  <th>  Jarque-Bera (JB):  </th> <td>3509.104</td>\n",
       "</tr>\n",
       "<tr>\n",
       "  <th>Skew:</th>          <td>-0.218</td>  <th>  Prob(JB):          </th> <td>    0.00</td>\n",
       "</tr>\n",
       "<tr>\n",
       "  <th>Kurtosis:</th>      <td> 8.271</td>  <th>  Cond. No.          </th> <td>    3.63</td>\n",
       "</tr>\n",
       "</table><br/><br/>Notes:<br/>[1] R² is computed without centering (uncentered) since the model does not contain a constant.<br/>[2] Standard Errors assume that the covariance matrix of the errors is correctly specified."
      ],
      "text/latex": [
       "\\begin{center}\n",
       "\\begin{tabular}{lclc}\n",
       "\\toprule\n",
       "\\textbf{Dep. Variable:}    &      Rating      & \\textbf{  R-squared (uncentered):}      &     0.041   \\\\\n",
       "\\textbf{Model:}            &       OLS        & \\textbf{  Adj. R-squared (uncentered):} &     0.040   \\\\\n",
       "\\textbf{Method:}           &  Least Squares   & \\textbf{  F-statistic:       }          &     42.79   \\\\\n",
       "\\textbf{Date:}             & Wed, 20 Dec 2023 & \\textbf{  Prob (F-statistic):}          &  4.50e-27   \\\\\n",
       "\\textbf{Time:}             &     14:50:36     & \\textbf{  Log-Likelihood:    }          &   -9240.5   \\\\\n",
       "\\textbf{No. Observations:} &        3011      & \\textbf{  AIC:               }          & 1.849e+04   \\\\\n",
       "\\textbf{Df Residuals:}     &        3008      & \\textbf{  BIC:               }          & 1.851e+04   \\\\\n",
       "\\textbf{Df Model:}         &           3      & \\textbf{                     }          &             \\\\\n",
       "\\textbf{Covariance Type:}  &    nonrobust     & \\textbf{                     }          &             \\\\\n",
       "\\bottomrule\n",
       "\\end{tabular}\n",
       "\\begin{tabular}{lcccccc}\n",
       "            & \\textbf{coef} & \\textbf{std err} & \\textbf{t} & \\textbf{P$> |$t$|$} & \\textbf{[0.025} & \\textbf{0.975]}  \\\\\n",
       "\\midrule\n",
       "\\textbf{x1} &       0.3578  &        0.176     &     2.031  &         0.042        &        0.012    &        0.703     \\\\\n",
       "\\textbf{x2} &       0.4834  &        0.174     &     2.776  &         0.006        &        0.142    &        0.825     \\\\\n",
       "\\textbf{x3} &       0.3175  &        0.167     &     1.907  &         0.057        &       -0.009    &        0.644     \\\\\n",
       "\\bottomrule\n",
       "\\end{tabular}\n",
       "\\begin{tabular}{lclc}\n",
       "\\textbf{Omnibus:}       & 374.819 & \\textbf{  Durbin-Watson:     } &    0.011  \\\\\n",
       "\\textbf{Prob(Omnibus):} &   0.000 & \\textbf{  Jarque-Bera (JB):  } & 3509.104  \\\\\n",
       "\\textbf{Skew:}          &  -0.218 & \\textbf{  Prob(JB):          } &     0.00  \\\\\n",
       "\\textbf{Kurtosis:}      &   8.271 & \\textbf{  Cond. No.          } &     3.63  \\\\\n",
       "\\bottomrule\n",
       "\\end{tabular}\n",
       "%\\caption{OLS Regression Results}\n",
       "\\end{center}\n",
       "\n",
       "Notes: \\newline\n",
       " [1] R² is computed without centering (uncentered) since the model does not contain a constant. \\newline\n",
       " [2] Standard Errors assume that the covariance matrix of the errors is correctly specified."
      ],
      "text/plain": [
       "<class 'statsmodels.iolib.summary.Summary'>\n",
       "\"\"\"\n",
       "                                 OLS Regression Results                                \n",
       "=======================================================================================\n",
       "Dep. Variable:                 Rating   R-squared (uncentered):                   0.041\n",
       "Model:                            OLS   Adj. R-squared (uncentered):              0.040\n",
       "Method:                 Least Squares   F-statistic:                              42.79\n",
       "Date:                Wed, 20 Dec 2023   Prob (F-statistic):                    4.50e-27\n",
       "Time:                        14:50:36   Log-Likelihood:                         -9240.5\n",
       "No. Observations:                3011   AIC:                                  1.849e+04\n",
       "Df Residuals:                    3008   BIC:                                  1.851e+04\n",
       "Df Model:                           3                                                  \n",
       "Covariance Type:            nonrobust                                                  \n",
       "==============================================================================\n",
       "                 coef    std err          t      P>|t|      [0.025      0.975]\n",
       "------------------------------------------------------------------------------\n",
       "x1             0.3578      0.176      2.031      0.042       0.012       0.703\n",
       "x2             0.4834      0.174      2.776      0.006       0.142       0.825\n",
       "x3             0.3175      0.167      1.907      0.057      -0.009       0.644\n",
       "==============================================================================\n",
       "Omnibus:                      374.819   Durbin-Watson:                   0.011\n",
       "Prob(Omnibus):                  0.000   Jarque-Bera (JB):             3509.104\n",
       "Skew:                          -0.218   Prob(JB):                         0.00\n",
       "Kurtosis:                       8.271   Cond. No.                         3.63\n",
       "==============================================================================\n",
       "\n",
       "Notes:\n",
       "[1] R² is computed without centering (uncentered) since the model does not contain a constant.\n",
       "[2] Standard Errors assume that the covariance matrix of the errors is correctly specified.\n",
       "\"\"\""
      ]
     },
     "execution_count": 57,
     "metadata": {},
     "output_type": "execute_result"
    }
   ],
   "source": [
    "model.summary()"
   ]
  },
  {
   "cell_type": "markdown",
   "id": "9609698b-4a8f-4743-bb67-4076f17c69c0",
   "metadata": {},
   "source": [
    "### FINDING COEFFICIENT OR SLOPE "
   ]
  },
  {
   "cell_type": "code",
   "execution_count": 58,
   "id": "57ae39d7-3914-41e5-923d-a56f98b7459b",
   "metadata": {},
   "outputs": [],
   "source": [
    "regression=LinearRegression(n_jobs=-1)"
   ]
  },
  {
   "cell_type": "code",
   "execution_count": 59,
   "id": "6d55881a-cdf1-47aa-a952-86ebfbcfe111",
   "metadata": {},
   "outputs": [
    {
     "data": {
      "text/html": [
       "<style>#sk-container-id-2 {color: black;}#sk-container-id-2 pre{padding: 0;}#sk-container-id-2 div.sk-toggleable {background-color: white;}#sk-container-id-2 label.sk-toggleable__label {cursor: pointer;display: block;width: 100%;margin-bottom: 0;padding: 0.3em;box-sizing: border-box;text-align: center;}#sk-container-id-2 label.sk-toggleable__label-arrow:before {content: \"▸\";float: left;margin-right: 0.25em;color: #696969;}#sk-container-id-2 label.sk-toggleable__label-arrow:hover:before {color: black;}#sk-container-id-2 div.sk-estimator:hover label.sk-toggleable__label-arrow:before {color: black;}#sk-container-id-2 div.sk-toggleable__content {max-height: 0;max-width: 0;overflow: hidden;text-align: left;background-color: #f0f8ff;}#sk-container-id-2 div.sk-toggleable__content pre {margin: 0.2em;color: black;border-radius: 0.25em;background-color: #f0f8ff;}#sk-container-id-2 input.sk-toggleable__control:checked~div.sk-toggleable__content {max-height: 200px;max-width: 100%;overflow: auto;}#sk-container-id-2 input.sk-toggleable__control:checked~label.sk-toggleable__label-arrow:before {content: \"▾\";}#sk-container-id-2 div.sk-estimator input.sk-toggleable__control:checked~label.sk-toggleable__label {background-color: #d4ebff;}#sk-container-id-2 div.sk-label input.sk-toggleable__control:checked~label.sk-toggleable__label {background-color: #d4ebff;}#sk-container-id-2 input.sk-hidden--visually {border: 0;clip: rect(1px 1px 1px 1px);clip: rect(1px, 1px, 1px, 1px);height: 1px;margin: -1px;overflow: hidden;padding: 0;position: absolute;width: 1px;}#sk-container-id-2 div.sk-estimator {font-family: monospace;background-color: #f0f8ff;border: 1px dotted black;border-radius: 0.25em;box-sizing: border-box;margin-bottom: 0.5em;}#sk-container-id-2 div.sk-estimator:hover {background-color: #d4ebff;}#sk-container-id-2 div.sk-parallel-item::after {content: \"\";width: 100%;border-bottom: 1px solid gray;flex-grow: 1;}#sk-container-id-2 div.sk-label:hover label.sk-toggleable__label {background-color: #d4ebff;}#sk-container-id-2 div.sk-serial::before {content: \"\";position: absolute;border-left: 1px solid gray;box-sizing: border-box;top: 0;bottom: 0;left: 50%;z-index: 0;}#sk-container-id-2 div.sk-serial {display: flex;flex-direction: column;align-items: center;background-color: white;padding-right: 0.2em;padding-left: 0.2em;position: relative;}#sk-container-id-2 div.sk-item {position: relative;z-index: 1;}#sk-container-id-2 div.sk-parallel {display: flex;align-items: stretch;justify-content: center;background-color: white;position: relative;}#sk-container-id-2 div.sk-item::before, #sk-container-id-2 div.sk-parallel-item::before {content: \"\";position: absolute;border-left: 1px solid gray;box-sizing: border-box;top: 0;bottom: 0;left: 50%;z-index: -1;}#sk-container-id-2 div.sk-parallel-item {display: flex;flex-direction: column;z-index: 1;position: relative;background-color: white;}#sk-container-id-2 div.sk-parallel-item:first-child::after {align-self: flex-end;width: 50%;}#sk-container-id-2 div.sk-parallel-item:last-child::after {align-self: flex-start;width: 50%;}#sk-container-id-2 div.sk-parallel-item:only-child::after {width: 0;}#sk-container-id-2 div.sk-dashed-wrapped {border: 1px dashed gray;margin: 0 0.4em 0.5em 0.4em;box-sizing: border-box;padding-bottom: 0.4em;background-color: white;}#sk-container-id-2 div.sk-label label {font-family: monospace;font-weight: bold;display: inline-block;line-height: 1.2em;}#sk-container-id-2 div.sk-label-container {text-align: center;}#sk-container-id-2 div.sk-container {/* jupyter's `normalize.less` sets `[hidden] { display: none; }` but bootstrap.min.css set `[hidden] { display: none !important; }` so we also need the `!important` here to be able to override the default hidden behavior on the sphinx rendered scikit-learn.org. See: https://github.com/scikit-learn/scikit-learn/issues/21755 */display: inline-block !important;position: relative;}#sk-container-id-2 div.sk-text-repr-fallback {display: none;}</style><div id=\"sk-container-id-2\" class=\"sk-top-container\"><div class=\"sk-text-repr-fallback\"><pre>LinearRegression(n_jobs=-1)</pre><b>In a Jupyter environment, please rerun this cell to show the HTML representation or trust the notebook. <br />On GitHub, the HTML representation is unable to render, please try loading this page with nbviewer.org.</b></div><div class=\"sk-container\" hidden><div class=\"sk-item\"><div class=\"sk-estimator sk-toggleable\"><input class=\"sk-toggleable__control sk-hidden--visually\" id=\"sk-estimator-id-2\" type=\"checkbox\" checked><label for=\"sk-estimator-id-2\" class=\"sk-toggleable__label sk-toggleable__label-arrow\">LinearRegression</label><div class=\"sk-toggleable__content\"><pre>LinearRegression(n_jobs=-1)</pre></div></div></div></div></div>"
      ],
      "text/plain": [
       "LinearRegression(n_jobs=-1)"
      ]
     },
     "execution_count": 59,
     "metadata": {},
     "output_type": "execute_result"
    }
   ],
   "source": [
    "regression.fit(X_train,y_train)"
   ]
  },
  {
   "cell_type": "code",
   "execution_count": 60,
   "id": "03aac1b3-452d-495f-a511-4359f67b4877",
   "metadata": {},
   "outputs": [
    {
     "name": "stdout",
     "output_type": "stream",
     "text": [
      "Coefficient or splope:  [0.35779379 0.48336645 0.31751009]\n",
      "Intercept:  5.192294918631684\n"
     ]
    }
   ],
   "source": [
    "print('Coefficient or splope: ',regression.coef_)\n",
    "print('Intercept: ',regression.intercept_)"
   ]
  },
  {
   "cell_type": "markdown",
   "id": "4405ff27-aa84-40dc-9f60-23ce3113e95b",
   "metadata": {},
   "source": [
    "### PRINTING MODEL SUMMARY..."
   ]
  },
  {
   "cell_type": "code",
   "execution_count": 61,
   "id": "35cd6307-3533-4981-885f-4bf916a0eaea",
   "metadata": {},
   "outputs": [],
   "source": [
    "## OLS Linear Regression\n",
    "import statsmodels.api as sm"
   ]
  },
  {
   "cell_type": "code",
   "execution_count": 62,
   "id": "10c745e2-0f23-4acf-93e0-54ea9af7633d",
   "metadata": {},
   "outputs": [],
   "source": [
    "model=sm.OLS(y_train,X_train).fit()"
   ]
  },
  {
   "cell_type": "code",
   "execution_count": 63,
   "id": "53797d71-b8c8-49af-9289-26d7b1a0fff6",
   "metadata": {},
   "outputs": [
    {
     "name": "stdout",
     "output_type": "stream",
     "text": [
      "4665     6.151145\n",
      "11582    5.793352\n",
      "342      6.952022\n",
      "12301    6.952022\n",
      "6591     5.309985\n",
      "           ...   \n",
      "2662     5.793352\n",
      "11220    6.594228\n",
      "9383     5.475842\n",
      "1406     6.952022\n",
      "11594    6.151145\n",
      "Length: 753, dtype: float64\n"
     ]
    }
   ],
   "source": [
    "prediction=model.predict(X_test)\n",
    "print(prediction)"
   ]
  },
  {
   "cell_type": "code",
   "execution_count": 64,
   "id": "c3364c14-264a-4a93-8807-57a8cddf2564",
   "metadata": {
    "scrolled": true
   },
   "outputs": [
    {
     "name": "stdout",
     "output_type": "stream",
     "text": [
      "                                 OLS Regression Results                                \n",
      "=======================================================================================\n",
      "Dep. Variable:                 Rating   R-squared (uncentered):                   0.041\n",
      "Model:                            OLS   Adj. R-squared (uncentered):              0.040\n",
      "Method:                 Least Squares   F-statistic:                              42.79\n",
      "Date:                Wed, 20 Dec 2023   Prob (F-statistic):                    4.50e-27\n",
      "Time:                        14:50:36   Log-Likelihood:                         -9240.5\n",
      "No. Observations:                3011   AIC:                                  1.849e+04\n",
      "Df Residuals:                    3008   BIC:                                  1.851e+04\n",
      "Df Model:                           3                                                  \n",
      "Covariance Type:            nonrobust                                                  \n",
      "==============================================================================\n",
      "                 coef    std err          t      P>|t|      [0.025      0.975]\n",
      "------------------------------------------------------------------------------\n",
      "x1             0.3578      0.176      2.031      0.042       0.012       0.703\n",
      "x2             0.4834      0.174      2.776      0.006       0.142       0.825\n",
      "x3             0.3175      0.167      1.907      0.057      -0.009       0.644\n",
      "==============================================================================\n",
      "Omnibus:                      374.819   Durbin-Watson:                   0.011\n",
      "Prob(Omnibus):                  0.000   Jarque-Bera (JB):             3509.104\n",
      "Skew:                          -0.218   Prob(JB):                         0.00\n",
      "Kurtosis:                       8.271   Cond. No.                         3.63\n",
      "==============================================================================\n",
      "\n",
      "Notes:\n",
      "[1] R² is computed without centering (uncentered) since the model does not contain a constant.\n",
      "[2] Standard Errors assume that the covariance matrix of the errors is correctly specified.\n"
     ]
    }
   ],
   "source": [
    "print(model.summary())"
   ]
  },
  {
   "cell_type": "markdown",
   "id": "4e7e70e7-e3a3-4b8b-b942-06c247a1d912",
   "metadata": {},
   "source": [
    "### # Visualize best fit line"
   ]
  },
  {
   "cell_type": "code",
   "execution_count": 65,
   "id": "d16b7939-93f0-45ce-ae03-a61541981d9b",
   "metadata": {},
   "outputs": [
    {
     "data": {
      "image/png": "[encoded data removed]",
      "text/plain": [
       "<Figure size 640x480 with 1 Axes>"
      ]
     },
     "metadata": {},
     "output_type": "display_data"
    }
   ],
   "source": [
    "import numpy as np\n",
    "import matplotlib.pyplot as plt\n",
    "from sklearn.linear_model import LinearRegression\n",
    "\n",
    "# Features (X)\n",
    "X = df[['Actor2_Mean_Rating', 'Director_Mean_Rating', 'Actor3_Mean_Rating']]  \n",
    "\n",
    "# Target variable (y) \n",
    "y = df['Rating']  \n",
    "\n",
    "# Create and fit model\n",
    "model = LinearRegression()\n",
    "model.fit(X, y)\n",
    "\n",
    "# Generate X data to plot prediction line \n",
    "X_line = np.linspace(X.min(), X.max(), 100).reshape(-1, 3)\n",
    "\n",
    "# Make predictions\n",
    "y_pred = model.predict(X_line)\n",
    "\n",
    "# Visualize best fit line\n",
    "fig, ax = plt.subplots()\n",
    "ax.scatter(y, model.predict(X))\n",
    "ax.plot(X_line, y_pred, c='r')\n",
    "\n",
    "ax.set_xlabel('Actual Ratings')\n",
    "ax.set_ylabel('Predicted Ratings')\n",
    "\n",
    "plt.show()"
   ]
  },
  {
   "cell_type": "markdown",
   "id": "e30f696c-5b2a-4110-81bc-4310e2583174",
   "metadata": {},
   "source": [
    "### Get residuals "
   ]
  },
  {
   "cell_type": "code",
   "execution_count": 66,
   "id": "35749b6f-ff57-4eb4-92c2-c898af62a130",
   "metadata": {},
   "outputs": [],
   "source": [
    "import matplotlib.pyplot as plt\n",
    "from scipy.stats import shapiro\n",
    "from sklearn.linear_model import LinearRegression\n",
    "\n",
    "# Fit linear regression model\n",
    "model = LinearRegression()\n",
    "model.fit(X, y)\n",
    "\n",
    "# Get residuals  \n",
    "res = y - model.predict(X)"
   ]
  },
  {
   "cell_type": "code",
   "execution_count": 67,
   "id": "d446c815-552d-4888-81e5-f189e2394b30",
   "metadata": {},
   "outputs": [
    {
     "data": {
      "image/png": "[encoded data removed]",
      "text/plain": [
       "<Figure size 640x480 with 1 Axes>"
      ]
     },
     "metadata": {},
     "output_type": "display_data"
    }
   ],
   "source": [
    "# 1. Residual histogram\n",
    "plt.hist(res, bins=20)\n",
    "plt.title(\"Residual Histogram\")\n",
    "plt.xlabel(\"Magnitude of residuals\")\n",
    "plt.ylabel(\"Frequency\")\n",
    "plt.show()"
   ]
  },
  {
   "cell_type": "code",
   "execution_count": 68,
   "id": "3ef3cca4-0be0-415e-8c16-f7f16c10f9f2",
   "metadata": {},
   "outputs": [
    {
     "data": {
      "image/png": "[encoded data removed]",
      "text/plain": [
       "<Figure size 640x480 with 1 Axes>"
      ]
     },
     "metadata": {},
     "output_type": "display_data"
    }
   ],
   "source": [
    "# 2. Residuals vs Fitted plot  \n",
    "plt.scatter(model.predict(X), res)\n",
    "plt.title(\"Residuals vs Fitted\")\n",
    "plt.xlabel(\"Fitted values\")\n",
    "plt.ylabel(\"Magnitude of residuals\")\n",
    "plt.show()"
   ]
  },
  {
   "cell_type": "code",
   "execution_count": 69,
   "id": "7a208dd9-10f3-4ced-bf91-64cd876daf51",
   "metadata": {},
   "outputs": [
    {
     "name": "stdout",
     "output_type": "stream",
     "text": [
      "R-squared: 0.8869686913594811\n",
      "MSE: 0.14988652085966758\n",
      "RMSE: 0.3871518059620381\n",
      "MAE: 0.24804730709440598\n"
     ]
    }
   ],
   "source": [
    "from sklearn.metrics import r2_score, mean_squared_error\n",
    "import numpy as np\n",
    "\n",
    "# Assume we have a model fit on X and y data\n",
    "\n",
    "# Get predictions on the training data \n",
    "y_pred = model.predict(X)\n",
    "\n",
    "# Calculate R-squared \n",
    "r2 = r2_score(y, y_pred)\n",
    "print(\"R-squared:\", r2)\n",
    "\n",
    "# Calculate MSE\n",
    "mse = mean_squared_error(y, y_pred) \n",
    "print(\"MSE:\", mse)\n",
    "\n",
    "# Calculate RMSE\n",
    "rmse = np.sqrt(mse)\n",
    "print(\"RMSE:\", rmse)\n",
    "\n",
    "# Calculate MAE\n",
    "mae = mean_absolute_error(y, y_pred)\n",
    "print(\"MAE:\", mae)"
   ]
  },
  {
   "cell_type": "markdown",
   "id": "b05cfebf-56ae-421d-aafb-9250dd7947e9",
   "metadata": {},
   "source": [
    "## These metrics collectively suggest that the regression model has a good predictive performance, with high R² and relatively low error metrics (MSE, RMSE, and MAE)."
   ]
  },
  {
   "cell_type": "markdown",
   "id": "27da3571-0012-46ec-9d14-32b59ee6bb2d",
   "metadata": {},
   "source": [
    "## Thank You..."
   ]
  }
 ],
 "metadata": {
  "kernelspec": {
   "display_name": "Python 3 (ipykernel)",
   "language": "python",
   "name": "python3"
  },
  "language_info": {
   "codemirror_mode": {
    "name": "ipython",
    "version": 3
   },
   "file_extension": ".py",
   "mimetype": "text/x-python",
   "name": "python",
   "nbconvert_exporter": "python",
   "pygments_lexer": "ipython3",
   "version": "3.12.0"
  }
 },
 "nbformat": 4,
 "nbformat_minor": 5
}
